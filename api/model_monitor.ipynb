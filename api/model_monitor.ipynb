{
 "cells": [
  {
   "attachments": {},
   "cell_type": "markdown",
   "metadata": {},
   "source": [
    "## Model Drift Detection\n",
    "\n",
    "This is a notebooks file where I am trying to implement a model drift detection, and log it to MLFlow\n",
    "\n",
    "It's hard to do it with this dataset as it is inherently static therefore, I am using it just to learn how to use the FastAPI and MLFlow library"
   ]
  },
  {
   "cell_type": "code",
   "execution_count": 29,
   "metadata": {},
   "outputs": [],
   "source": [
    "import pandas as pd\n",
    "import numpy as np\n",
    "import mlflow\n",
    "\n",
    "from alibi_detect.cd import KSDrift\n",
    "from sqlalchemy import create_engine"
   ]
  },
  {
   "cell_type": "code",
   "execution_count": 30,
   "metadata": {},
   "outputs": [],
   "source": [
    "engine = create_engine(\"sqlite:///input_warehouse.db\")"
   ]
  },
  {
   "cell_type": "code",
   "execution_count": 31,
   "metadata": {},
   "outputs": [],
   "source": [
    "baseline = pd.read_csv(r\"../data/processed_data/oversampled_test.csv\", index_col=0)\n",
    "baseline.drop([\"TARGET\"], axis=1, inplace=True)\n",
    "\n",
    "keys = list(baseline.columns)\n",
    "cat_cols = list(baseline.columns[baseline.dtypes == \"int64\"]) # not used\n",
    "cont_cols = list(baseline.columns[baseline.dtypes == \"float64\"]) # not used\n",
    "\n",
    "baseline = np.array(baseline)"
   ]
  },
  {
   "cell_type": "code",
   "execution_count": 32,
   "metadata": {},
   "outputs": [],
   "source": [
    "new_data = pd.read_sql(\"SELECT * FROM model_inputs\", engine)\n",
    "new_data.drop([\"y_pred\"], axis=1, inplace=True)\n",
    "new_data = np.array(new_data)"
   ]
  },
  {
   "cell_type": "code",
   "execution_count": 33,
   "metadata": {},
   "outputs": [],
   "source": [
    "drift_detector = KSDrift(x_ref=baseline, p_val=.05)"
   ]
  },
  {
   "cell_type": "code",
   "execution_count": 34,
   "metadata": {},
   "outputs": [],
   "source": [
    "preds = drift_detector.predict(new_data)"
   ]
  },
  {
   "cell_type": "code",
   "execution_count": 35,
   "metadata": {},
   "outputs": [],
   "source": [
    "is_drift = preds['data']['is_drift']\n",
    "p_val = preds['data']['p_val']"
   ]
  },
  {
   "cell_type": "code",
   "execution_count": 36,
   "metadata": {},
   "outputs": [],
   "source": [
    "dict_arr = {keys[i]: p_val[i] for i in range(len(keys))}"
   ]
  },
  {
   "cell_type": "code",
   "execution_count": 37,
   "metadata": {},
   "outputs": [
    {
     "name": "stdout",
     "output_type": "stream",
     "text": [
      "Feature drift detected with p-value {'NAME_CONTRACT_TYPE': 0.0, 'CODE_GENDER': 0.0, 'FLAG_OWN_CAR': 0.0, 'FLAG_OWN_REALTY': 0.0150554, 'CNT_CHILDREN': 2.5082915e-25, 'AMT_INCOME_TOTAL': 0.0, 'AMT_CREDIT': 2.5913689e-05, 'AMT_ANNUITY': 2.857101e-24, 'AMT_GOODS_PRICE': 3.5432568e-15, 'NAME_TYPE_SUITE': 0.0, 'NAME_INCOME_TYPE': 0.0, 'NAME_EDUCATION_TYPE': 0.0, 'NAME_FAMILY_STATUS': 0.0, 'NAME_HOUSING_TYPE': 0.0, 'REGION_POPULATION_RELATIVE': 0.0, 'DAYS_BIRTH': 0.0, 'DAYS_EMPLOYED': 6.123759e-23, 'DAYS_REGISTRATION': 0.64598376, 'DAYS_ID_PUBLISH': 5.81532e-05, 'OWN_CAR_AGE': 0.0, 'FLAG_MOBIL': 0.0, 'FLAG_EMP_PHONE': 0.9952315, 'FLAG_WORK_PHONE': 0.0024543032, 'FLAG_CONT_MOBILE': 1.4781265e-15, 'FLAG_PHONE': 7.861141e-05, 'FLAG_EMAIL': 1.0, 'OCCUPATION_TYPE': 0.0, 'CNT_FAM_MEMBERS': 5.3761394e-30, 'REGION_RATING_CLIENT': 0.8627275, 'REGION_RATING_CLIENT_W_CITY': 0.023070637, 'WEEKDAY_APPR_PROCESS_START': 0.0, 'HOUR_APPR_PROCESS_START': 0.0, 'REG_REGION_NOT_LIVE_REGION': 0.0, 'REG_REGION_NOT_WORK_REGION': 1.0, 'LIVE_REGION_NOT_WORK_REGION': 1.0, 'REG_CITY_NOT_LIVE_CITY': 1.0, 'REG_CITY_NOT_WORK_CITY': 0.9744962, 'LIVE_CITY_NOT_WORK_CITY': 0.9997897, 'ORGANIZATION_TYPE': 0.0, 'EXT_SOURCE_1': 0.0, 'EXT_SOURCE_2': 0.024042001, 'EXT_SOURCE_3': 0.9115616, 'APARTMENTS_AVG': 0.004518845, 'BASEMENTAREA_AVG': 0.0137280505, 'YEARS_BEGINEXPLUATATION_AVG': 0.022103937, 'YEARS_BUILD_AVG': 5.1756993e-05, 'COMMONAREA_AVG': 0.07514692, 'ELEVATORS_AVG': 0.9183349, 'ENTRANCES_AVG': 0.021028373, 'FLOORSMAX_AVG': 0.07520594, 'FLOORSMIN_AVG': 0.0028574395, 'LANDAREA_AVG': 0.4689592, 'LIVINGAPARTMENTS_AVG': 0.858246, 'LIVINGAREA_AVG': 0.37061483, 'NONLIVINGAPARTMENTS_AVG': 2.6447369e-08, 'NONLIVINGAREA_AVG': 0.82484984, 'APARTMENTS_MODE': 0.42885673, 'BASEMENTAREA_MODE': 0.012006602, 'YEARS_BEGINEXPLUATATION_MODE': 0.022668114, 'YEARS_BUILD_MODE': 5.1608127e-05, 'COMMONAREA_MODE': 0.0744652, 'ELEVATORS_MODE': 0.94737595, 'ENTRANCES_MODE': 0.021133024, 'FLOORSMAX_MODE': 0.07305952, 'FLOORSMIN_MODE': 0.0027337593, 'LANDAREA_MODE': 0.44571474, 'LIVINGAPARTMENTS_MODE': 0.8599395, 'LIVINGAREA_MODE': 0.44457978, 'NONLIVINGAPARTMENTS_MODE': 1.3157605e-08, 'NONLIVINGAREA_MODE': 0.90052783, 'APARTMENTS_MEDI': 0.43679765, 'BASEMENTAREA_MEDI': 0.013429084, 'YEARS_BEGINEXPLUATATION_MEDI': 0.022151943, 'YEARS_BUILD_MEDI': 5.1948915e-05, 'COMMONAREA_MEDI': 0.07513513, 'ELEVATORS_MEDI': 0.92878914, 'ENTRANCES_MEDI': 0.021032551, 'FLOORSMAX_MEDI': 0.07505259, 'FLOORSMIN_MEDI': 0.002843546, 'LANDAREA_MEDI': 0.47649255, 'LIVINGAPARTMENTS_MEDI': 0.85634434, 'LIVINGAREA_MEDI': 0.37458715, 'NONLIVINGAPARTMENTS_MEDI': 2.1757737e-08, 'NONLIVINGAREA_MEDI': 0.84579885, 'FONDKAPREMONT_MODE': 0.0, 'HOUSETYPE_MODE': 0.3162484, 'TOTALAREA_MODE': 0.0, 'WALLSMATERIAL_MODE': 0.0, 'EMERGENCYSTATE_MODE': 0.13495457, 'OBS_30_CNT_SOCIAL_CIRCLE': 0.0, 'DEF_30_CNT_SOCIAL_CIRCLE': 0.78447104, 'OBS_60_CNT_SOCIAL_CIRCLE': 0.043105047, 'DEF_60_CNT_SOCIAL_CIRCLE': 0.6719083, 'DAYS_LAST_PHONE_CHANGE': 4.2726924e-07, 'FLAG_DOCUMENT_2': 4.286694e-05, 'FLAG_DOCUMENT_3': 0.0028065385, 'FLAG_DOCUMENT_4': 0.0037769335, 'FLAG_DOCUMENT_5': 1.0, 'FLAG_DOCUMENT_6': 1.0, 'FLAG_DOCUMENT_7': 1.0, 'FLAG_DOCUMENT_8': 1.0, 'FLAG_DOCUMENT_9': 1.0, 'FLAG_DOCUMENT_10': 1.0, 'FLAG_DOCUMENT_11': 1.0, 'FLAG_DOCUMENT_12': 1.0, 'FLAG_DOCUMENT_13': 1.0, 'FLAG_DOCUMENT_14': 1.0, 'FLAG_DOCUMENT_15': 1.0, 'FLAG_DOCUMENT_16': 1.0, 'FLAG_DOCUMENT_17': 1.0, 'FLAG_DOCUMENT_18': 1.0, 'FLAG_DOCUMENT_19': 1.0, 'FLAG_DOCUMENT_20': 1.0, 'FLAG_DOCUMENT_21': 1.0, 'AMT_REQ_CREDIT_BUREAU_HOUR': 1.0, 'AMT_REQ_CREDIT_BUREAU_DAY': 1.0, 'AMT_REQ_CREDIT_BUREAU_WEEK': 1.0, 'AMT_REQ_CREDIT_BUREAU_MON': 0.9607502, 'AMT_REQ_CREDIT_BUREAU_QRT': 1.0, 'AMT_REQ_CREDIT_BUREAU_YEAR': 0.09436714}\n"
     ]
    }
   ],
   "source": [
    "# Print the results\n",
    "if is_drift:\n",
    "    print(f\"Feature drift detected with p-value {dict_arr}\")\n",
    "else:\n",
    "    print(\"No feature drift detected\")"
   ]
  },
  {
   "cell_type": "code",
   "execution_count": null,
   "metadata": {},
   "outputs": [],
   "source": [
    "with mlflow.start_run(run_name=\"home_default_classification\"):\n",
    "    mlflow.log_metric(\"KS_result\", is_drift)\n",
    "    # mlflow.log_param(\"dict_pval\", dict_arr)"
   ]
  }
 ],
 "metadata": {
  "kernelspec": {
   "display_name": "Python 3",
   "language": "python",
   "name": "python3"
  },
  "language_info": {
   "codemirror_mode": {
    "name": "ipython",
    "version": 3
   },
   "file_extension": ".py",
   "mimetype": "text/x-python",
   "name": "python",
   "nbconvert_exporter": "python",
   "pygments_lexer": "ipython3",
   "version": "3.9.13"
  },
  "orig_nbformat": 4
 },
 "nbformat": 4,
 "nbformat_minor": 2
}

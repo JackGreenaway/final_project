{
 "cells": [
  {
   "cell_type": "code",
   "execution_count": 2,
   "metadata": {},
   "outputs": [],
   "source": [
    "import pandas as pd\n",
    "import numpy as np\n",
    "import seaborn as sns\n",
    "import matplotlib.pyplot as plt\n",
    "import json\n",
    "\n",
    "# custom classes for cross validation and scoring\n",
    "import cross_validation\n",
    "import performance_metrics\n",
    "\n",
    "from pickle import load\n",
    "from sklearn import svm, metrics\n",
    "from sklearn.model_selection import KFold, GridSearchCV\n",
    "from sklearn.decomposition import PCA\n",
    "from skopt import BayesSearchCV\n",
    "import keras_tuner as kt"
   ]
  },
  {
   "cell_type": "code",
   "execution_count": 3,
   "metadata": {},
   "outputs": [],
   "source": [
    "data = pd.read_csv(r\"../data/processed_data/complete_data.csv\", index_col=0)\n"
   ]
  },
  {
   "cell_type": "code",
   "execution_count": 4,
   "metadata": {},
   "outputs": [
    {
     "data": {
      "text/plain": [
       "((565372, 202), (565372,))"
      ]
     },
     "execution_count": 4,
     "metadata": {},
     "output_type": "execute_result"
    }
   ],
   "source": [
    "x = data.drop([\"TARGET\"], axis=1)\n",
    "y = data.filter([\"TARGET\"], axis=1)\n",
    "\n",
    "scaler = load(open(r\"scaler/scaler.pkl\", \"rb\"))\n",
    "x_scaled = scaler.transform(x)\n",
    "y = y.values.reshape(y.shape[0])\n",
    "\n",
    "x_scaled.shape, y.shape\n"
   ]
  },
  {
   "cell_type": "code",
   "execution_count": 5,
   "metadata": {},
   "outputs": [],
   "source": [
    "# for the SVM there is too much data\n",
    "pca = PCA()\n",
    "x_reduced = pca.fit(x_scaled)\n",
    "\n",
    "explained_variance_ratio = np.cumsum(pca.explained_variance_ratio_)\n",
    "n_components = np.argmax(explained_variance_ratio >= 0.8) + 1\n",
    "\n",
    "# reduced component that retains 80% of the data\n",
    "x_reduced = PCA(n_components=n_components).fit_transform(x_scaled)"
   ]
  },
  {
   "cell_type": "code",
   "execution_count": 6,
   "metadata": {},
   "outputs": [
    {
     "data": {
      "text/plain": [
       "((282686, 133), (282686,), (282686, 133), (282686,))"
      ]
     },
     "execution_count": 6,
     "metadata": {},
     "output_type": "execute_result"
    }
   ],
   "source": [
    "split = 0.5\n",
    "\n",
    "hp_x, hp_y = x_reduced[:int(len(x_reduced) * split)], y[:int(len(y) * split)] # hyperparameter set\n",
    "kf_x, kf_y = x_reduced[int(len(x_reduced) * split):], y[int(len(y) * split):] # kfold set\n",
    "\n",
    "hp_x.shape, hp_y.shape, kf_x.shape, kf_y.shape"
   ]
  },
  {
   "cell_type": "code",
   "execution_count": 7,
   "metadata": {},
   "outputs": [],
   "source": [
    "def model_builder(hp):\n",
    "    model = svm.SVC(\n",
    "        C=hp.Choice(\"c\", [0.1, 1.0, 10.0]),\n",
    "        kernel=hp.Choice(\"kernel\", ['linear', 'rbf']),\n",
    "        gamma=hp.Choice(\"gamma\", [0.1, 1.0, 10.0]),\n",
    "        #degree=hp.Int(\"degree\", 0, 3, step=1)\n",
    "    )\n",
    "    \n",
    "    return model"
   ]
  },
  {
   "cell_type": "code",
   "execution_count": 12,
   "metadata": {},
   "outputs": [],
   "source": [
    "project_name = \"svm_v2\"\n",
    "\n",
    "tuner = kt.tuners.SklearnTuner(\n",
    "    oracle=kt.oracles.BayesianOptimizationOracle(\n",
    "        objective=kt.Objective(\"score\", \"max\"),\n",
    "        max_trials=10\n",
    "    ),\n",
    "    hypermodel=model_builder,\n",
    "    scoring=metrics.make_scorer(metrics.accuracy_score),\n",
    "    cv=KFold(5, shuffle=True, random_state=7430),\n",
    "    directory=f\"../logs/svm/{project_name}\",\n",
    "    project_name=project_name\n",
    ")"
   ]
  },
  {
   "cell_type": "code",
   "execution_count": null,
   "metadata": {},
   "outputs": [
    {
     "name": "stdout",
     "output_type": "stream",
     "text": [
      "\n",
      "Search: Running Trial #1\n",
      "\n",
      "Value             |Best Value So Far |Hyperparameter\n",
      "10                |10                |c\n",
      "rbf               |rbf               |kernel\n",
      "1                 |1                 |gamma\n",
      "\n"
     ]
    }
   ],
   "source": [
    "tuner.search(hp_x[:10000], hp_y[:10000])"
   ]
  },
  {
   "cell_type": "code",
   "execution_count": null,
   "metadata": {
    "scrolled": true
   },
   "outputs": [
    {
     "name": "stdout",
     "output_type": "stream",
     "text": [
      "Fitting 2 folds for each of 54 candidates, totalling 108 fits\n"
     ]
    }
   ],
   "source": [
    "# implement KT for tuning\n",
    "\n",
    "param_space = {\n",
    "    'C': [0.1, 1, 10],\n",
    "    'kernel': ['linear', 'rbf'],\n",
    "    'gamma': [0.1, 1, 10],\n",
    "    'degree': [2, 3, 4]\n",
    "}\n",
    "\n",
    "model = svm.SVC()\n",
    "\n",
    "search = GridSearchCV(model, param_space, cv=2, n_jobs=-1, verbose=2)\n",
    "search.fit(hp_x, hp_y)"
   ]
  },
  {
   "cell_type": "code",
   "execution_count": null,
   "metadata": {},
   "outputs": [],
   "source": [
    "# save the model architecture \n",
    "best_params = search.best_params_\n",
    "with open(f\"svm/hyperparameters-{project_name}.json\", \"w\") as json_file:\n",
    "    json.dump(best_params, json_file)\n",
    "    \n",
    "best_params"
   ]
  },
  {
   "cell_type": "code",
   "execution_count": null,
   "metadata": {},
   "outputs": [],
   "source": [
    "# load the best hyperparameters\n",
    "with open(f\"svm/hyperparameters-{project_name}.json\", \"r\") as json_file:\n",
    "    load_hyperparameters = json.load(json_file)\n",
    "    \n",
    "loaded_model = svm.SVC(**load_hyperparameters)\n",
    "\n",
    "kfold = KFold(n_splits=5, shuffle=True, random_state=663)\n",
    "\n",
    "# run cross validation for the model\n",
    "cv = cross_validation.cross_val(kf_x, kf_y)\n",
    "results, confusion_matrix = cv.run_validation(kfold=kfold, model=loaded_model)"
   ]
  },
  {
   "cell_type": "code",
   "execution_count": null,
   "metadata": {},
   "outputs": [],
   "source": [
    "# save to csv for easy viewing\n",
    "results.to_csv(f\"../results/svm/scores-{project_name)}.csv\")\n",
    "\n",
    "results.round(4) * 100"
   ]
  },
  {
   "cell_type": "code",
   "execution_count": null,
   "metadata": {},
   "outputs": [],
   "source": [
    "# save confusion matrix \n",
    "cm_df = pd.DataFrame(confusion_matrix)\n",
    "cm_df.to_csv(f\"../results/svm/cmdata-{project_name}.csv\")"
   ]
  },
  {
   "cell_type": "code",
   "execution_count": null,
   "metadata": {},
   "outputs": [],
   "source": [
    "fig = sns.heatmap(confusion_matrix, annot=True, cmap='Blues', fmt='d')\n",
    "\n",
    "# Set labels, title, and axis ticks\n",
    "plt.xlabel('Predicted labels')\n",
    "plt.ylabel('True labels')\n",
    "plt.title('Support Vector Machine Confusion Matrix')\n",
    "\n",
    "tick_labels = ['Default', 'Non-default']\n",
    "tick_positions = [0, 1]\n",
    "plt.xticks(ticks=[pos + 0.5 for pos in tick_positions], labels=tick_labels)\n",
    "plt.yticks(ticks=[pos + 0.5 for pos in tick_positions], labels=tick_labels)\n",
    "\n",
    "# Show the plot\n",
    "plt.show()\n",
    "\n",
    "plt.tight_layout()\n",
    "\n",
    "graph = fig.get_figure()\n",
    "graph.savefig(f\"../results/svm/cm-{project_name}.png\")"
   ]
  },
  {
   "cell_type": "code",
   "execution_count": null,
   "metadata": {},
   "outputs": [],
   "source": []
  }
 ],
 "metadata": {
  "kernelspec": {
   "display_name": "Python 3 (ipykernel)",
   "language": "python",
   "name": "python3"
  },
  "language_info": {
   "codemirror_mode": {
    "name": "ipython",
    "version": 3
   },
   "file_extension": ".py",
   "mimetype": "text/x-python",
   "name": "python",
   "nbconvert_exporter": "python",
   "pygments_lexer": "ipython3",
   "version": "3.9.13"
  }
 },
 "nbformat": 4,
 "nbformat_minor": 2
}

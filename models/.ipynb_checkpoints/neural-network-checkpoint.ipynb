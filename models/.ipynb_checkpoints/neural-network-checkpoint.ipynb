{
 "cells": [
  {
   "cell_type": "code",
   "execution_count": 1,
   "metadata": {},
   "outputs": [],
   "source": [
    "import pandas as pd\n",
    "import numpy as np\n",
    "import tensorflow as tf\n",
    "import keras\n",
    "import keras_tuner as kt\n",
    "import matplotlib.pyplot as plt\n",
    "import performance_metrics\n",
    "import seaborn as sns\n",
    "\n",
    "from sklearn.preprocessing import MinMaxScaler, StandardScaler\n",
    "from sklearn.model_selection import KFold\n",
    "from sklearn.metrics import confusion_matrix\n",
    "\n",
    "from keras import Sequential, layers\n",
    "from keras.layers import Dense, Dropout\n",
    "from pickle import load"
   ]
  },
  {
   "cell_type": "code",
   "execution_count": 4,
   "metadata": {},
   "outputs": [],
   "source": [
    "# raw_data = pd.read_csv(r\"../data/processed_data/undersampled_train.csv\", index_col=0)\n",
    "data = pd.read_csv(r\"../data/processed_data/complete_data.csv\", index_col=0)"
   ]
  },
  {
   "cell_type": "code",
   "execution_count": 5,
   "metadata": {},
   "outputs": [
    {
     "data": {
      "text/plain": [
       "((282686, 202), (282686,), (282686, 202), (282686,))"
      ]
     },
     "execution_count": 5,
     "metadata": {},
     "output_type": "execute_result"
    }
   ],
   "source": [
    "# split into features\n",
    "x = data.drop([\"TARGET\"], axis=1)\n",
    "y = data.filter([\"TARGET\"], axis=1)\n",
    "y = y.values.reshape(y.shape[0])\n",
    "\n",
    "# split dataset for hyperparameter tuning and kfold\n",
    "split = 0.5\n",
    "hp_x, hp_y = x[:int(len(x) * split)], y[:int(len(y) * split)] # hyperparameter set\n",
    "kf_x, kf_y = x[int(len(x) * split):], y[int(len(y) * split):] # kfold set\n",
    "\n",
    "hp_x.shape, hp_y.shape, kf_x.shape, kf_y.shape\n"
   ]
  },
  {
   "cell_type": "code",
   "execution_count": 6,
   "metadata": {},
   "outputs": [],
   "source": [
    "# scale the data for hyperparameter tuning\n",
    "scaler = StandardScaler()\n",
    "hp_x = scaler.fit_transform(hp_x)"
   ]
  },
  {
   "cell_type": "code",
   "execution_count": 10,
   "metadata": {},
   "outputs": [],
   "source": [
    "def model_builder(hp):\n",
    "    model = Sequential()\n",
    "\n",
    "    # input layer\n",
    "    model.add(Dense(units=x.shape[1], input_shape=(x.shape[1],)))\n",
    "\n",
    "    # let the model decide how many layers it wants to have\n",
    "    for i in range(hp.Int(\"num_dense_layers\", min_value=2, max_value=5, step=1)):\n",
    "        model.add(\n",
    "            Dropout(hp.Float(\"dropout_\" + str(i), min_value=0, max_value=0.5, step=0.1))\n",
    "        )\n",
    "        model.add(\n",
    "            Dense(\n",
    "                units=hp.Int(\"layer_\" + str(i), min_value=32, max_value=1024, step=64),\n",
    "                activation=hp.Choice(\"act_\" + str(i), [\"relu\", \"sigmoid\"]),\n",
    "            )\n",
    "        )\n",
    "\n",
    "    # output shape of the model the same as the number of features\n",
    "    model.add(\n",
    "        Dense((1), activation=\"sigmoid\"),\n",
    "    )\n",
    "\n",
    "    # compile the model\n",
    "    hp_learning_rate = hp.Choice(\"learning_rate\", values=[1e-1, 1e-2, 1e-3, 1e-4])\n",
    "\n",
    "    model.compile(\n",
    "        optimizer=keras.optimizers.Adam(learning_rate=hp_learning_rate),\n",
    "        loss=keras.losses.BinaryCrossentropy(),\n",
    "        metrics=[keras.metrics.AUC(), \"accuracy\"],\n",
    "    )\n",
    "\n",
    "    return model"
   ]
  },
  {
   "cell_type": "code",
   "execution_count": 11,
   "metadata": {},
   "outputs": [],
   "source": [
    "earlyStop = tf.keras.callbacks.EarlyStopping(monitor=\"accuracy\", patience=2)"
   ]
  },
  {
   "cell_type": "code",
   "execution_count": 12,
   "metadata": {},
   "outputs": [],
   "source": [
    "project = \"nn_v1\"\n",
    "\n",
    "tuner = kt.BayesianOptimization(\n",
    "    model_builder,\n",
    "    objective=kt.Objective(\"accuracy\", direction=\"max\"),\n",
    "    max_trials=20,  # I could stop it earlier, or even let it run forever but, my computer isn't powerful enough\n",
    "    directory=f\"../logs/nn/{project}\",\n",
    "    project_name=project,\n",
    ")"
   ]
  },
  {
   "cell_type": "code",
   "execution_count": 13,
   "metadata": {},
   "outputs": [
    {
     "name": "stdout",
     "output_type": "stream",
     "text": [
      "Trial 20 Complete [00h 02m 05s]\n",
      "accuracy: 0.9539726376533508\n",
      "\n",
      "Best accuracy So Far: 0.9640102982521057\n",
      "Total elapsed time: 00h 38m 54s\n",
      "INFO:tensorflow:Oracle triggered exit\n"
     ]
    }
   ],
   "source": [
    "tuner.search(\n",
    "    hp_x,\n",
    "    hp_y,\n",
    "    epochs=5,\n",
    "    batch_size=64,\n",
    "    validation_split=0.2,\n",
    "    callbacks=[earlyStop],\n",
    ")"
   ]
  },
  {
   "cell_type": "code",
   "execution_count": 14,
   "metadata": {},
   "outputs": [
    {
     "name": "stdout",
     "output_type": "stream",
     "text": [
      "Model: \"sequential\"\n",
      "_________________________________________________________________\n",
      " Layer (type)                Output Shape              Param #   \n",
      "=================================================================\n",
      " dense (Dense)               (None, 202)               41006     \n",
      "                                                                 \n",
      " dropout (Dropout)           (None, 202)               0         \n",
      "                                                                 \n",
      " dense_1 (Dense)             (None, 352)               71456     \n",
      "                                                                 \n",
      " dropout_1 (Dropout)         (None, 352)               0         \n",
      "                                                                 \n",
      " dense_2 (Dense)             (None, 160)               56480     \n",
      "                                                                 \n",
      " dense_3 (Dense)             (None, 1)                 161       \n",
      "                                                                 \n",
      "=================================================================\n",
      "Total params: 169,103\n",
      "Trainable params: 169,103\n",
      "Non-trainable params: 0\n",
      "_________________________________________________________________\n"
     ]
    }
   ],
   "source": [
    "hpModel = tuner.get_best_models()[0]\n",
    "hyperparameters = tuner.get_best_hyperparameters(num_trials=1)[0]\n",
    "\n",
    "hpModel.summary() #, hyperparameters.values"
   ]
  },
  {
   "cell_type": "code",
   "execution_count": 15,
   "metadata": {},
   "outputs": [
    {
     "name": "stdout",
     "output_type": "stream",
     "text": [
      "INFO:tensorflow:Assets written to: neural_network/nn_v1\\assets\n"
     ]
    }
   ],
   "source": [
    "# save the model architecture for another time\n",
    "hpModel.save(f\"neural_network/{project}\")"
   ]
  },
  {
   "cell_type": "code",
   "execution_count": 17,
   "metadata": {},
   "outputs": [
    {
     "ename": "KeyError",
     "evalue": "\"None of [Index([     0,      1,      2,      3,      5,      6,      7,      8,     10,\\n           11,\\n       ...\\n       282675, 282676, 282677, 282678, 282680, 282681, 282682, 282683, 282684,\\n       282685],\\n      dtype='int32', length=226148)] are in the [columns]\"",
     "output_type": "error",
     "traceback": [
      "\u001b[1;31m---------------------------------------------------------------------------\u001b[0m",
      "\u001b[1;31mKeyError\u001b[0m                                  Traceback (most recent call last)",
      "Cell \u001b[1;32mIn[17], line 14\u001b[0m\n\u001b[0;32m     11\u001b[0m confusion_matrix_sum \u001b[38;5;241m=\u001b[39m \u001b[38;5;28;01mNone\u001b[39;00m\n\u001b[0;32m     13\u001b[0m \u001b[38;5;28;01mfor\u001b[39;00m train_index, test_index \u001b[38;5;129;01min\u001b[39;00m kfold\u001b[38;5;241m.\u001b[39msplit(np\u001b[38;5;241m.\u001b[39marray(kf_x)):\n\u001b[1;32m---> 14\u001b[0m     x_train, x_test \u001b[38;5;241m=\u001b[39m \u001b[43mkf_x\u001b[49m\u001b[43m[\u001b[49m\u001b[43mtrain_index\u001b[49m\u001b[43m]\u001b[49m, kf_x[test_index]\n\u001b[0;32m     15\u001b[0m     y_train, y_test \u001b[38;5;241m=\u001b[39m kf_y[train_index], kf_y[test_index]\n\u001b[0;32m     17\u001b[0m     \u001b[38;5;66;03m# scale x features\u001b[39;00m\n",
      "File \u001b[1;32mC:\\ProgramData\\Anaconda3\\envs\\fp\\lib\\site-packages\\pandas\\core\\frame.py:3767\u001b[0m, in \u001b[0;36mDataFrame.__getitem__\u001b[1;34m(self, key)\u001b[0m\n\u001b[0;32m   3765\u001b[0m     \u001b[38;5;28;01mif\u001b[39;00m is_iterator(key):\n\u001b[0;32m   3766\u001b[0m         key \u001b[38;5;241m=\u001b[39m \u001b[38;5;28mlist\u001b[39m(key)\n\u001b[1;32m-> 3767\u001b[0m     indexer \u001b[38;5;241m=\u001b[39m \u001b[38;5;28;43mself\u001b[39;49m\u001b[38;5;241;43m.\u001b[39;49m\u001b[43mcolumns\u001b[49m\u001b[38;5;241;43m.\u001b[39;49m\u001b[43m_get_indexer_strict\u001b[49m\u001b[43m(\u001b[49m\u001b[43mkey\u001b[49m\u001b[43m,\u001b[49m\u001b[43m \u001b[49m\u001b[38;5;124;43m\"\u001b[39;49m\u001b[38;5;124;43mcolumns\u001b[39;49m\u001b[38;5;124;43m\"\u001b[39;49m\u001b[43m)\u001b[49m[\u001b[38;5;241m1\u001b[39m]\n\u001b[0;32m   3769\u001b[0m \u001b[38;5;66;03m# take() does not accept boolean indexers\u001b[39;00m\n\u001b[0;32m   3770\u001b[0m \u001b[38;5;28;01mif\u001b[39;00m \u001b[38;5;28mgetattr\u001b[39m(indexer, \u001b[38;5;124m\"\u001b[39m\u001b[38;5;124mdtype\u001b[39m\u001b[38;5;124m\"\u001b[39m, \u001b[38;5;28;01mNone\u001b[39;00m) \u001b[38;5;241m==\u001b[39m \u001b[38;5;28mbool\u001b[39m:\n",
      "File \u001b[1;32mC:\\ProgramData\\Anaconda3\\envs\\fp\\lib\\site-packages\\pandas\\core\\indexes\\base.py:5876\u001b[0m, in \u001b[0;36mIndex._get_indexer_strict\u001b[1;34m(self, key, axis_name)\u001b[0m\n\u001b[0;32m   5873\u001b[0m \u001b[38;5;28;01melse\u001b[39;00m:\n\u001b[0;32m   5874\u001b[0m     keyarr, indexer, new_indexer \u001b[38;5;241m=\u001b[39m \u001b[38;5;28mself\u001b[39m\u001b[38;5;241m.\u001b[39m_reindex_non_unique(keyarr)\n\u001b[1;32m-> 5876\u001b[0m \u001b[38;5;28;43mself\u001b[39;49m\u001b[38;5;241;43m.\u001b[39;49m\u001b[43m_raise_if_missing\u001b[49m\u001b[43m(\u001b[49m\u001b[43mkeyarr\u001b[49m\u001b[43m,\u001b[49m\u001b[43m \u001b[49m\u001b[43mindexer\u001b[49m\u001b[43m,\u001b[49m\u001b[43m \u001b[49m\u001b[43maxis_name\u001b[49m\u001b[43m)\u001b[49m\n\u001b[0;32m   5878\u001b[0m keyarr \u001b[38;5;241m=\u001b[39m \u001b[38;5;28mself\u001b[39m\u001b[38;5;241m.\u001b[39mtake(indexer)\n\u001b[0;32m   5879\u001b[0m \u001b[38;5;28;01mif\u001b[39;00m \u001b[38;5;28misinstance\u001b[39m(key, Index):\n\u001b[0;32m   5880\u001b[0m     \u001b[38;5;66;03m# GH 42790 - Preserve name from an Index\u001b[39;00m\n",
      "File \u001b[1;32mC:\\ProgramData\\Anaconda3\\envs\\fp\\lib\\site-packages\\pandas\\core\\indexes\\base.py:5935\u001b[0m, in \u001b[0;36mIndex._raise_if_missing\u001b[1;34m(self, key, indexer, axis_name)\u001b[0m\n\u001b[0;32m   5933\u001b[0m     \u001b[38;5;28;01mif\u001b[39;00m use_interval_msg:\n\u001b[0;32m   5934\u001b[0m         key \u001b[38;5;241m=\u001b[39m \u001b[38;5;28mlist\u001b[39m(key)\n\u001b[1;32m-> 5935\u001b[0m     \u001b[38;5;28;01mraise\u001b[39;00m \u001b[38;5;167;01mKeyError\u001b[39;00m(\u001b[38;5;124mf\u001b[39m\u001b[38;5;124m\"\u001b[39m\u001b[38;5;124mNone of [\u001b[39m\u001b[38;5;132;01m{\u001b[39;00mkey\u001b[38;5;132;01m}\u001b[39;00m\u001b[38;5;124m] are in the [\u001b[39m\u001b[38;5;132;01m{\u001b[39;00maxis_name\u001b[38;5;132;01m}\u001b[39;00m\u001b[38;5;124m]\u001b[39m\u001b[38;5;124m\"\u001b[39m)\n\u001b[0;32m   5937\u001b[0m not_found \u001b[38;5;241m=\u001b[39m \u001b[38;5;28mlist\u001b[39m(ensure_index(key)[missing_mask\u001b[38;5;241m.\u001b[39mnonzero()[\u001b[38;5;241m0\u001b[39m]]\u001b[38;5;241m.\u001b[39munique())\n\u001b[0;32m   5938\u001b[0m \u001b[38;5;28;01mraise\u001b[39;00m \u001b[38;5;167;01mKeyError\u001b[39;00m(\u001b[38;5;124mf\u001b[39m\u001b[38;5;124m\"\u001b[39m\u001b[38;5;132;01m{\u001b[39;00mnot_found\u001b[38;5;132;01m}\u001b[39;00m\u001b[38;5;124m not in index\u001b[39m\u001b[38;5;124m\"\u001b[39m)\n",
      "\u001b[1;31mKeyError\u001b[0m: \"None of [Index([     0,      1,      2,      3,      5,      6,      7,      8,     10,\\n           11,\\n       ...\\n       282675, 282676, 282677, 282678, 282680, 282681, 282682, 282683, 282684,\\n       282685],\\n      dtype='int32', length=226148)] are in the [columns]\""
     ]
    }
   ],
   "source": [
    "kfold = KFold(n_splits=5, shuffle=True, random_state=663)\n",
    "\n",
    "results = pd.DataFrame(\n",
    "    columns=[\"accuracy\", \"precision\", \"recall\", \"f1\", \"auc\", \"fpr\", \"fnr\"]\n",
    ")\n",
    "results.index.name = \"Model\"\n",
    "\n",
    "model = keras.models.load_model(f\"neural_network/{project}/\")\n",
    "\n",
    "counter = 1\n",
    "confusion_matrix_sum = None\n",
    "\n",
    "for train_index, test_index in kfold.split(kf_x):\n",
    "    x_train, x_test = kf_x[train_index], kf_x[test_index]\n",
    "    y_train, y_test = kf_y[train_index], kf_y[test_index]\n",
    "    \n",
    "    # scale x features\n",
    "    scaler = StandardScaler()\n",
    "    x_train, x_test = scaler.fit_transform(x_train), scaler.transform(x_test)\n",
    "\n",
    "    # fit model to train set\n",
    "    model = hpModel.fit(x_train, y_train, epochs=10, batch_size=64, callbacks=earlyStop)\n",
    "    y_pred = hpModel.predict(x_test)\n",
    "\n",
    "    y_pred_binary = np.where(y_pred >= 0.5, 1, 0)\n",
    "\n",
    "    # calculate confusion matrix, and append data for later visualisation\n",
    "    cm = confusion_matrix(y_test, y_pred_binary)\n",
    "    fpr = cm[0][1] / cm.sum()\n",
    "    fnr = cm[1][0] / cm.sum()\n",
    "\n",
    "    if confusion_matrix_sum is None:\n",
    "        confusion_matrix_sum = cm\n",
    "    else:\n",
    "        confusion_matrix_sum += cm\n",
    "\n",
    "    # calculate metrics and append to dataframe\n",
    "    metrics = performance_metrics.metrics(y_test, y_pred_binary)\n",
    "    accuracy, precision, recall, f1, auc_result = metrics.calculate_metrics()\n",
    "    results.loc[counter] = [accuracy, precision, recall, f1, auc_result, fpr, fnr]\n",
    "\n",
    "    print(f\"Fold {counter} completed\")\n",
    "    counter += 1\n",
    "\n",
    "# calculate the average over all models\n",
    "results.loc[\"Average\"] = [\n",
    "    results.accuracy.mean(),\n",
    "    results.precision.mean(),\n",
    "    results.recall.mean(),\n",
    "    results.f1.mean(),\n",
    "    results.auc.mean(),\n",
    "    results.fpr.mean(),\n",
    "    results.fnr.mean(),\n",
    "]"
   ]
  },
  {
   "cell_type": "code",
   "execution_count": 23,
   "metadata": {},
   "outputs": [
    {
     "data": {
      "text/html": [
       "<div>\n",
       "<style scoped>\n",
       "    .dataframe tbody tr th:only-of-type {\n",
       "        vertical-align: middle;\n",
       "    }\n",
       "\n",
       "    .dataframe tbody tr th {\n",
       "        vertical-align: top;\n",
       "    }\n",
       "\n",
       "    .dataframe thead th {\n",
       "        text-align: right;\n",
       "    }\n",
       "</style>\n",
       "<table border=\"1\" class=\"dataframe\">\n",
       "  <thead>\n",
       "    <tr style=\"text-align: right;\">\n",
       "      <th></th>\n",
       "      <th>accuracy</th>\n",
       "      <th>precision</th>\n",
       "      <th>recall</th>\n",
       "      <th>f1</th>\n",
       "      <th>auc</th>\n",
       "      <th>fpr</th>\n",
       "      <th>fnr</th>\n",
       "    </tr>\n",
       "    <tr>\n",
       "      <th>Model</th>\n",
       "      <th></th>\n",
       "      <th></th>\n",
       "      <th></th>\n",
       "      <th></th>\n",
       "      <th></th>\n",
       "      <th></th>\n",
       "      <th></th>\n",
       "    </tr>\n",
       "  </thead>\n",
       "  <tbody>\n",
       "    <tr>\n",
       "      <th>1</th>\n",
       "      <td>98.16</td>\n",
       "      <td>99.53</td>\n",
       "      <td>96.79</td>\n",
       "      <td>98.14</td>\n",
       "      <td>98.17</td>\n",
       "      <td>0.23</td>\n",
       "      <td>1.61</td>\n",
       "    </tr>\n",
       "    <tr>\n",
       "      <th>2</th>\n",
       "      <td>98.38</td>\n",
       "      <td>99.45</td>\n",
       "      <td>97.33</td>\n",
       "      <td>98.38</td>\n",
       "      <td>98.39</td>\n",
       "      <td>0.27</td>\n",
       "      <td>1.35</td>\n",
       "    </tr>\n",
       "    <tr>\n",
       "      <th>3</th>\n",
       "      <td>98.35</td>\n",
       "      <td>99.38</td>\n",
       "      <td>97.29</td>\n",
       "      <td>98.32</td>\n",
       "      <td>98.35</td>\n",
       "      <td>0.30</td>\n",
       "      <td>1.35</td>\n",
       "    </tr>\n",
       "    <tr>\n",
       "      <th>4</th>\n",
       "      <td>98.38</td>\n",
       "      <td>99.46</td>\n",
       "      <td>97.30</td>\n",
       "      <td>98.37</td>\n",
       "      <td>98.38</td>\n",
       "      <td>0.26</td>\n",
       "      <td>1.36</td>\n",
       "    </tr>\n",
       "    <tr>\n",
       "      <th>5</th>\n",
       "      <td>98.21</td>\n",
       "      <td>99.51</td>\n",
       "      <td>96.89</td>\n",
       "      <td>98.18</td>\n",
       "      <td>98.21</td>\n",
       "      <td>0.24</td>\n",
       "      <td>1.55</td>\n",
       "    </tr>\n",
       "    <tr>\n",
       "      <th>Average</th>\n",
       "      <td>98.30</td>\n",
       "      <td>99.47</td>\n",
       "      <td>97.12</td>\n",
       "      <td>98.28</td>\n",
       "      <td>98.30</td>\n",
       "      <td>0.26</td>\n",
       "      <td>1.44</td>\n",
       "    </tr>\n",
       "  </tbody>\n",
       "</table>\n",
       "</div>"
      ],
      "text/plain": [
       "         accuracy  precision  recall     f1    auc   fpr   fnr\n",
       "Model                                                         \n",
       "1           98.16      99.53   96.79  98.14  98.17  0.23  1.61\n",
       "2           98.38      99.45   97.33  98.38  98.39  0.27  1.35\n",
       "3           98.35      99.38   97.29  98.32  98.35  0.30  1.35\n",
       "4           98.38      99.46   97.30  98.37  98.38  0.26  1.36\n",
       "5           98.21      99.51   96.89  98.18  98.21  0.24  1.55\n",
       "Average     98.30      99.47   97.12  98.28  98.30  0.26  1.44"
      ]
     },
     "execution_count": 23,
     "metadata": {},
     "output_type": "execute_result"
    }
   ],
   "source": [
    "# save to csv for easy viewing\n",
    "results.to_csv(f\"../results/neural_network/scores-{project}.csv\")\n",
    "\n",
    "results.round(4) * 100"
   ]
  },
  {
   "cell_type": "code",
   "execution_count": 24,
   "metadata": {},
   "outputs": [],
   "source": [
    "# save confusion matrix\n",
    "cm_df = pd.DataFrame(confusion_matrix_sum)\n",
    "cm_df.to_csv(f\"../results/neural_network/cmdata-{project}.csv\")"
   ]
  },
  {
   "cell_type": "code",
   "execution_count": 27,
   "metadata": {},
   "outputs": [
    {
     "data": {
      "image/png": "[encoded data removed]",
      "text/plain": [
       "<Figure size 640x480 with 2 Axes>"
      ]
     },
     "metadata": {},
     "output_type": "display_data"
    },
    {
     "data": {
      "text/plain": [
       "<Figure size 640x480 with 0 Axes>"
      ]
     },
     "metadata": {},
     "output_type": "display_data"
    }
   ],
   "source": [
    "fig, ax = plt.subplots()\n",
    "\n",
    "sns.heatmap(confusion_matrix_sum, annot=True, cmap=\"Blues\", fmt=\"d\")\n",
    "\n",
    "# Set labels, title, and axis ticks\n",
    "plt.xlabel(\"Predicted labels\")\n",
    "plt.ylabel(\"True labels\")\n",
    "plt.title(\"Neural Network Confusion Matrix\")\n",
    "\n",
    "tick_labels = [\"Default\", \"Non-default\"]\n",
    "tick_positions = [0, 1]\n",
    "plt.xticks(ticks=[pos + 0.5 for pos in tick_positions], labels=tick_labels)\n",
    "plt.yticks(ticks=[pos + 0.5 for pos in tick_positions], labels=tick_labels)\n",
    "\n",
    "# Show the plot\n",
    "plt.show()\n",
    "\n",
    "plt.tight_layout()\n",
    "fig.savefig(f\"../results/neural_network/cm-{project}.png\")"
   ]
  },
  {
   "cell_type": "code",
   "execution_count": 28,
   "metadata": {},
   "outputs": [
    {
     "name": "stdout",
     "output_type": "stream",
     "text": [
      "Epoch 1/10\n",
      "4417/4417 [==============================] - 14s 3ms/step - loss: 0.0533 - auc: 0.9966 - accuracy: 0.9828\n",
      "Epoch 2/10\n",
      "4417/4417 [==============================] - 14s 3ms/step - loss: 0.0524 - auc: 0.9967 - accuracy: 0.9830\n",
      "Epoch 3/10\n",
      "4417/4417 [==============================] - 14s 3ms/step - loss: 0.0520 - auc: 0.9967 - accuracy: 0.9832\n",
      "Epoch 4/10\n",
      "4417/4417 [==============================] - 14s 3ms/step - loss: 0.0515 - auc: 0.9968 - accuracy: 0.9833\n",
      "Epoch 5/10\n",
      "4417/4417 [==============================] - 14s 3ms/step - loss: 0.0530 - auc: 0.9964 - accuracy: 0.9832\n",
      "Epoch 6/10\n",
      "4417/4417 [==============================] - 14s 3ms/step - loss: 0.0527 - auc: 0.9967 - accuracy: 0.9828\n",
      "INFO:tensorflow:Assets written to: neural_network/interpretation_model-3\\assets\n"
     ]
    }
   ],
   "source": [
    "interpretation_model = hpModel.fit(kf_x, kf_y, epochs=10, batch_size=64, callbacks=earlyStop)\n",
    "hpModel.save(\"neural_network/interpretation_model-3\")"
   ]
  },
  {
   "cell_type": "code",
   "execution_count": null,
   "metadata": {},
   "outputs": [],
   "source": []
  }
 ],
 "metadata": {
  "kernelspec": {
   "display_name": "Python 3 (ipykernel)",
   "language": "python",
   "name": "python3"
  },
  "language_info": {
   "codemirror_mode": {
    "name": "ipython",
    "version": 3
   },
   "file_extension": ".py",
   "mimetype": "text/x-python",
   "name": "python",
   "nbconvert_exporter": "python",
   "pygments_lexer": "ipython3",
   "version": "3.9.13"
  },
  "vscode": {
   "interpreter": {
    "hash": "25034407fed5d681614dac11a1c0537e8cb49e3a8883c071303eea01322943d9"
   }
  }
 },
 "nbformat": 4,
 "nbformat_minor": 2
}

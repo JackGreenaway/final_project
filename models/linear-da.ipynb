{
 "cells": [
  {
   "cell_type": "code",
   "execution_count": 16,
   "metadata": {},
   "outputs": [],
   "source": [
    "import pandas as pd\n",
    "import numpy as np\n",
    "import seaborn as sns\n",
    "import matplotlib.pyplot as plt\n",
    "import keras_tuner as kt\n",
    "import pickle\n",
    "\n",
    "# custom classes for cross validation and scoring\n",
    "import cross_validation\n",
    "import performance_metrics\n",
    "\n",
    "from sklearn import metrics\n",
    "from sklearn.discriminant_analysis import LinearDiscriminantAnalysis\n",
    "from sklearn.preprocessing import StandardScaler\n",
    "from sklearn.model_selection import KFold"
   ]
  },
  {
   "cell_type": "code",
   "execution_count": 17,
   "metadata": {},
   "outputs": [],
   "source": [
    "data = pd.read_csv(r\"../data/processed_data/complete_data.csv\", index_col=0)\n"
   ]
  },
  {
   "cell_type": "code",
   "execution_count": 18,
   "metadata": {},
   "outputs": [
    {
     "data": {
      "text/plain": [
       "((282686, 202), (282686,), (282686, 202), (282686,))"
      ]
     },
     "execution_count": 18,
     "metadata": {},
     "output_type": "execute_result"
    }
   ],
   "source": [
    "# split into features\n",
    "x = data.drop([\"TARGET\"], axis=1)\n",
    "y = data.filter([\"TARGET\"], axis=1)\n",
    "y = y.values.reshape(y.shape[0])\n",
    "\n",
    "# split dataset for hyperparameter tuning and kfold\n",
    "split = 0.5\n",
    "hp_x, hp_y = x[:int(len(x) * split)], y[:int(len(y) * split)] # hyperparameter set\n",
    "kf_x, kf_y = x[int(len(x) * split):], y[int(len(y) * split):] # kfold set\n",
    "\n",
    "hp_x.shape, hp_y.shape, kf_x.shape, kf_y.shape\n"
   ]
  },
  {
   "cell_type": "code",
   "execution_count": 19,
   "metadata": {},
   "outputs": [],
   "source": [
    "# scale the data for hyperparameter tuning\n",
    "scaler = StandardScaler()\n",
    "hp_x = scaler.fit_transform(hp_x)"
   ]
  },
  {
   "cell_type": "code",
   "execution_count": 20,
   "metadata": {},
   "outputs": [],
   "source": [
    "def model_builder(hp):\n",
    "    model = LinearDiscriminantAnalysis(\n",
    "        solver=hp.Choice(\"solver\", [\"svd\", \"lsqr\", \"eigen\"])\n",
    "    )\n",
    "    \n",
    "    return model"
   ]
  },
  {
   "cell_type": "code",
   "execution_count": 21,
   "metadata": {},
   "outputs": [
    {
     "name": "stdout",
     "output_type": "stream",
     "text": [
      "INFO:tensorflow:Reloading Tuner from ../logs/lda/lda_v1\\lda_v1\\tuner0.json\n"
     ]
    }
   ],
   "source": [
    "project_name = \"lda_v1\"\n",
    "\n",
    "tuner = kt.tuners.SklearnTuner(\n",
    "    oracle=kt.oracles.BayesianOptimizationOracle(\n",
    "        objective=kt.Objective(\"score\", \"max\"),\n",
    "        max_trials=20\n",
    "    ),\n",
    "    hypermodel=model_builder,\n",
    "    scoring=metrics.make_scorer(metrics.accuracy_score),\n",
    "    cv=KFold(2, shuffle=True, random_state=7243),\n",
    "    directory=f\"../logs/lda/{project_name}\",\n",
    "    project_name=project_name\n",
    ")"
   ]
  },
  {
   "cell_type": "code",
   "execution_count": 22,
   "metadata": {},
   "outputs": [
    {
     "name": "stdout",
     "output_type": "stream",
     "text": [
      "INFO:tensorflow:Oracle triggered exit\n"
     ]
    }
   ],
   "source": [
    "tuner.search(hp_x, hp_y)"
   ]
  },
  {
   "cell_type": "code",
   "execution_count": 23,
   "metadata": {},
   "outputs": [],
   "source": [
    "# save the model architecture \n",
    "hpModel = tuner.get_best_models(1)[0]\n",
    "\n",
    "with open(f\"linear_da/{project_name}.pkl\", \"wb\") as file:\n",
    "    pickle.dump(hpModel, file)"
   ]
  },
  {
   "cell_type": "code",
   "execution_count": 24,
   "metadata": {},
   "outputs": [
    {
     "name": "stdout",
     "output_type": "stream",
     "text": [
      "Fold 1 completed\n",
      "Fold 2 completed\n",
      "Fold 3 completed\n",
      "Fold 4 completed\n",
      "Fold 5 completed\n",
      "Validation Completed\n"
     ]
    }
   ],
   "source": [
    "# load the model    \n",
    "with open(f\"linear_da/{project_name}.pkl\", \"rb\") as file:\n",
    "    loaded_model = pickle.load(file)\n",
    "\n",
    "kfold = KFold(n_splits=5, shuffle=True, random_state=663)\n",
    "\n",
    "# run cross validation for the model\n",
    "cv = cross_validation.cross_val(kf_x, kf_y)\n",
    "results, confusion_matrix = cv.run_validation(kfold=kfold, model=loaded_model, scaler=scaler)"
   ]
  },
  {
   "cell_type": "code",
   "execution_count": 25,
   "metadata": {},
   "outputs": [
    {
     "data": {
      "text/html": [
       "<div>\n",
       "<style scoped>\n",
       "    .dataframe tbody tr th:only-of-type {\n",
       "        vertical-align: middle;\n",
       "    }\n",
       "\n",
       "    .dataframe tbody tr th {\n",
       "        vertical-align: top;\n",
       "    }\n",
       "\n",
       "    .dataframe thead th {\n",
       "        text-align: right;\n",
       "    }\n",
       "</style>\n",
       "<table border=\"1\" class=\"dataframe\">\n",
       "  <thead>\n",
       "    <tr style=\"text-align: right;\">\n",
       "      <th></th>\n",
       "      <th>accuracy</th>\n",
       "      <th>precision</th>\n",
       "      <th>recall</th>\n",
       "      <th>f1</th>\n",
       "      <th>auc</th>\n",
       "      <th>fpr</th>\n",
       "      <th>fnr</th>\n",
       "    </tr>\n",
       "    <tr>\n",
       "      <th>Model</th>\n",
       "      <th></th>\n",
       "      <th></th>\n",
       "      <th></th>\n",
       "      <th></th>\n",
       "      <th></th>\n",
       "      <th></th>\n",
       "      <th></th>\n",
       "    </tr>\n",
       "  </thead>\n",
       "  <tbody>\n",
       "    <tr>\n",
       "      <th>1</th>\n",
       "      <td>94.87</td>\n",
       "      <td>99.98</td>\n",
       "      <td>89.77</td>\n",
       "      <td>94.60</td>\n",
       "      <td>94.88</td>\n",
       "      <td>0.02</td>\n",
       "      <td>10.23</td>\n",
       "    </tr>\n",
       "    <tr>\n",
       "      <th>2</th>\n",
       "      <td>94.94</td>\n",
       "      <td>99.98</td>\n",
       "      <td>90.00</td>\n",
       "      <td>94.73</td>\n",
       "      <td>94.99</td>\n",
       "      <td>0.01</td>\n",
       "      <td>10.00</td>\n",
       "    </tr>\n",
       "    <tr>\n",
       "      <th>3</th>\n",
       "      <td>95.00</td>\n",
       "      <td>99.98</td>\n",
       "      <td>89.95</td>\n",
       "      <td>94.70</td>\n",
       "      <td>94.97</td>\n",
       "      <td>0.01</td>\n",
       "      <td>10.05</td>\n",
       "    </tr>\n",
       "    <tr>\n",
       "      <th>4</th>\n",
       "      <td>94.95</td>\n",
       "      <td>100.00</td>\n",
       "      <td>89.95</td>\n",
       "      <td>94.71</td>\n",
       "      <td>94.97</td>\n",
       "      <td>0.00</td>\n",
       "      <td>10.05</td>\n",
       "    </tr>\n",
       "    <tr>\n",
       "      <th>5</th>\n",
       "      <td>95.07</td>\n",
       "      <td>99.98</td>\n",
       "      <td>90.12</td>\n",
       "      <td>94.79</td>\n",
       "      <td>95.05</td>\n",
       "      <td>0.01</td>\n",
       "      <td>9.88</td>\n",
       "    </tr>\n",
       "    <tr>\n",
       "      <th>Average</th>\n",
       "      <td>94.96</td>\n",
       "      <td>99.99</td>\n",
       "      <td>89.96</td>\n",
       "      <td>94.71</td>\n",
       "      <td>94.97</td>\n",
       "      <td>0.01</td>\n",
       "      <td>10.04</td>\n",
       "    </tr>\n",
       "  </tbody>\n",
       "</table>\n",
       "</div>"
      ],
      "text/plain": [
       "         accuracy  precision  recall     f1    auc   fpr    fnr\n",
       "Model                                                          \n",
       "1           94.87      99.98   89.77  94.60  94.88  0.02  10.23\n",
       "2           94.94      99.98   90.00  94.73  94.99  0.01  10.00\n",
       "3           95.00      99.98   89.95  94.70  94.97  0.01  10.05\n",
       "4           94.95     100.00   89.95  94.71  94.97  0.00  10.05\n",
       "5           95.07      99.98   90.12  94.79  95.05  0.01   9.88\n",
       "Average     94.96      99.99   89.96  94.71  94.97  0.01  10.04"
      ]
     },
     "execution_count": 25,
     "metadata": {},
     "output_type": "execute_result"
    }
   ],
   "source": [
    "# save to csv for easy viewing\n",
    "results.to_csv(f\"../results/linear_da/scores-{project_name}.csv\")\n",
    "\n",
    "results.round(4) * 100"
   ]
  },
  {
   "cell_type": "code",
   "execution_count": 26,
   "metadata": {},
   "outputs": [],
   "source": [
    "# save confusion matrix \n",
    "cm_df = pd.DataFrame(confusion_matrix)\n",
    "cm_df.to_csv(f\"../results/linear_da/cmdata-{project_name}.csv\")"
   ]
  },
  {
   "cell_type": "code",
   "execution_count": 27,
   "metadata": {},
   "outputs": [
    {
     "data": {
      "image/png": "[encoded data removed]",
      "text/plain": [
       "<Figure size 640x480 with 2 Axes>"
      ]
     },
     "metadata": {},
     "output_type": "display_data"
    },
    {
     "data": {
      "text/plain": [
       "<Figure size 640x480 with 0 Axes>"
      ]
     },
     "metadata": {},
     "output_type": "display_data"
    }
   ],
   "source": [
    "fig = sns.heatmap(confusion_matrix, annot=True, cmap='Blues', fmt='d')\n",
    "\n",
    "# Set labels, title, and axis ticks\n",
    "plt.xlabel('Predicted labels')\n",
    "plt.ylabel('True labels')\n",
    "plt.title('Linear DA Confusion Matrix')\n",
    "\n",
    "tick_labels = ['Default', 'Non-default']\n",
    "tick_positions = [0, 1]\n",
    "plt.xticks(ticks=[pos + 0.5 for pos in tick_positions], labels=tick_labels)\n",
    "plt.yticks(ticks=[pos + 0.5 for pos in tick_positions], labels=tick_labels)\n",
    "\n",
    "# Show the plot\n",
    "plt.show()\n",
    "\n",
    "plt.tight_layout()\n",
    "\n",
    "graph = fig.get_figure()\n",
    "graph.savefig(f\"../results/linear_da/cm-{project_name}.png\")"
   ]
  },
  {
   "cell_type": "code",
   "execution_count": 28,
   "metadata": {},
   "outputs": [],
   "source": [
    "x = scaler.transform(kf_x)\n",
    "y = kf_y\n",
    "\n",
    "interpretation_model = loaded_model.fit(x, y)\n",
    "\n",
    "with open(f\"linear_da/{project_name}-interpretation.pkl\", \"wb\") as file:\n",
    "    pickle.dump(interpretation_model, file)"
   ]
  }
 ],
 "metadata": {
  "kernelspec": {
   "display_name": "Python 3 (ipykernel)",
   "language": "python",
   "name": "python3"
  },
  "language_info": {
   "codemirror_mode": {
    "name": "ipython",
    "version": 3
   },
   "file_extension": ".py",
   "mimetype": "text/x-python",
   "name": "python",
   "nbconvert_exporter": "python",
   "pygments_lexer": "ipython3",
   "version": "3.9.13"
  }
 },
 "nbformat": 4,
 "nbformat_minor": 2
}

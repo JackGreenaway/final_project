{
 "cells": [
  {
   "cell_type": "code",
   "execution_count": null,
   "metadata": {},
   "outputs": [],
   "source": [
    "import pandas as pd\n",
    "import numpy as np\n",
    "import joblib\n",
    "import performance_metrics\n",
    "import seaborn as sns\n",
    "import matplotlib.pyplot as plt\n",
    "\n",
    "from sklearn.linear_model import LogisticRegression\n",
    "from sklearn.preprocessing import StandardScaler\n",
    "from sklearn.model_selection import KFold\n",
    "from sklearn.metrics import confusion_matrix\n",
    "from pickle import load"
   ]
  },
  {
   "cell_type": "code",
   "execution_count": null,
   "metadata": {},
   "outputs": [],
   "source": [
    "data = pd.read_csv(r\"../data/processed_data/complete_data.csv\", index_col=0)\n"
   ]
  },
  {
   "cell_type": "code",
   "execution_count": null,
   "metadata": {},
   "outputs": [],
   "source": [
    "x = data.drop([\"TARGET\"], axis=1)\n",
    "y = data.filter([\"TARGET\"], axis=1)\n",
    "\n",
    "scaler = load(open(r\"scaler.pkl\", \"rb\"))\n",
    "x_scaled = scaler.transform(x)\n",
    "y = y.values.reshape(y.shape[0])\n",
    "\n",
    "x_scaled.shape, y.shape\n"
   ]
  },
  {
   "cell_type": "code",
   "execution_count": null,
   "metadata": {},
   "outputs": [],
   "source": [
    "kfold = KFold(n_splits=5, shuffle=True, random_state=663)\n",
    "\n",
    "results = pd.DataFrame(columns=[\"accuracy\", \"precision\", \"recall\", \"f1\", \"auc\", \"fpr\"])\n",
    "results.index.name = \"Model\"\n",
    "\n",
    "model = LogisticRegression(max_iter=1000)\n",
    "\n",
    "counter = 1\n",
    "confusion_matrix_sum = None\n",
    "\n",
    "# set up kfold cross-validation\n",
    "for train_index, test_index in kfold.split(x_scaled):\n",
    "    x_train, x_test = x_scaled[train_index], x_scaled[test_index]\n",
    "    y_train, y_test = y[train_index], y[test_index]\n",
    "     \n",
    "    # fit model to train set\n",
    "    model.fit(x_train, y_train)\n",
    "    y_pred = model.predict(x_test)\n",
    "    \n",
    "    # calculate confusion matrix, and append data for later visualisation\n",
    "    cm = confusion_matrix(y_test, y_pred)\n",
    "    fpr = cm[0][1] / cm.sum()\n",
    "    \n",
    "    if confusion_matrix_sum is None:\n",
    "        confusion_matrix_sum = cm\n",
    "    else:\n",
    "        confusion_matrix_sum += cm\n",
    "    \n",
    "    # calculate metrics and append to dataframe\n",
    "    metrics = performance_metrics.metrics(y_test, y_pred) \n",
    "    accuracy, precision, recall, f1, auc_result = metrics.calculate_metrics()\n",
    "    results.loc[counter] = [accuracy, precision, recall, f1, auc_result, fpr]\n",
    "    \n",
    "    print(f\"Fold {counter} completed\")\n",
    "    counter += 1\n",
    "\n",
    "# calculate the average over all models\n",
    "results.loc[\"Average\"] = [results.accuracy.mean(),\n",
    "                          results.precision.mean(),\n",
    "                          results.recall.mean(),\n",
    "                          results.f1.mean(),\n",
    "                          results.auc.mean(),\n",
    "                          results.fpr.mean()]"
   ]
  },
  {
   "cell_type": "code",
   "execution_count": null,
   "metadata": {},
   "outputs": [],
   "source": [
    "results.round(3) * 100"
   ]
  },
  {
   "cell_type": "code",
   "execution_count": null,
   "metadata": {},
   "outputs": [],
   "source": [
    "true_fpr = round(confusion_matrix_sum[0][1] / confusion_matrix_sum.sum() * 100,4)\n",
    "\n",
    "print(f\"The true FPR is {true_fpr}%\")"
   ]
  },
  {
   "cell_type": "code",
   "execution_count": null,
   "metadata": {},
   "outputs": [],
   "source": [
    "sns.heatmap(confusion_matrix_sum, annot=True, cmap='Blues', fmt='d')\n",
    "\n",
    "# Set labels, title, and axis ticks\n",
    "plt.xlabel('Predicted labels')\n",
    "plt.ylabel('True labels')\n",
    "plt.title('Confusion Matrix')\n",
    "\n",
    "tick_labels = ['Default', 'non-default']\n",
    "tick_positions = [0, 1]\n",
    "plt.xticks(ticks=[pos + 0.5 for pos in tick_positions], labels=tick_labels)\n",
    "plt.yticks(ticks=[pos + 0.5 for pos in tick_positions], labels=tick_labels)\n",
    "\n",
    "# Show the plot\n",
    "plt.show()"
   ]
  },
  {
   "cell_type": "code",
   "execution_count": null,
   "metadata": {},
   "outputs": [],
   "source": [
    "# joblib_file = r\"logistic_regression/LogisticRegression_v1.03.pkl\"\n",
    "# joblib.dump(clf, joblib_file)\n"
   ]
  },
  {
   "cell_type": "code",
   "execution_count": null,
   "metadata": {},
   "outputs": [],
   "source": []
  }
 ],
 "metadata": {
  "kernelspec": {
   "display_name": "Python 3",
   "language": "python",
   "name": "python3"
  },
  "language_info": {
   "codemirror_mode": {
    "name": "ipython",
    "version": 3
   },
   "file_extension": ".py",
   "mimetype": "text/x-python",
   "name": "python",
   "nbconvert_exporter": "python",
   "pygments_lexer": "ipython3",
   "version": "3.9.13"
  },
  "orig_nbformat": 4
 },
 "nbformat": 4,
 "nbformat_minor": 2
}

{
 "cells": [
  {
   "cell_type": "code",
   "execution_count": null,
   "metadata": {},
   "outputs": [],
   "source": [
    "import pandas as pd\n",
    "import numpy as np\n",
    "import tensorflow as tf\n",
    "import keras\n",
    "import keras_tuner as kt\n",
    "\n",
    "from sklearn.preprocessing import MinMaxScaler, StandardScaler\n",
    "from keras import Sequential, layers\n",
    "from keras.layers import Dense, Dropout\n"
   ]
  },
  {
   "cell_type": "code",
   "execution_count": null,
   "metadata": {},
   "outputs": [],
   "source": [
    "raw_data = pd.read_csv(r\"../data/processed_data/df_train.csv\", index_col=0)"
   ]
  },
  {
   "cell_type": "code",
   "execution_count": null,
   "metadata": {},
   "outputs": [],
   "source": [
    "x = raw_data.drop([\"TARGET\"], axis=1)\n",
    "y = raw_data.filter([\"TARGET\"], axis=1)\n",
    "\n",
    "scaler = (\n",
    "    StandardScaler()\n",
    ")  # MinMaxScaler often made values = 0.0, which = lost features in training\n",
    "x_scaled = scaler.fit_transform(x)\n",
    "y = y.values  # we dont need to scale our binary classification\n",
    "\n",
    "x_scaled = x_scaled.reshape(\n",
    "    x_scaled.shape[0], x_scaled.shape[1], 1\n",
    ")  # data needs to be 3D for a CNN\n",
    "\n",
    "x_scaled.shape, y.shape"
   ]
  },
  {
   "cell_type": "code",
   "execution_count": null,
   "metadata": {},
   "outputs": [],
   "source": [
    "def model_builder(hp):\n",
    "    model = Sequential()\n",
    "\n",
    "    # input layer\n",
    "    model.add(Dense(units=x_scaled.shape[1], input_shape=(x_scaled.shape[1],)))\n",
    "\n",
    "    # let the model decide how many layers it wants to have\n",
    "    for i in range(hp.Int(\"num_dense_layers\", min_value=2, max_value=5, step=1)):\n",
    "        model.add(\n",
    "            Dropout(hp.Float(\"dropout_\" + str(i), min_value=0, max_value=0.5, step=0.1))\n",
    "        )\n",
    "        model.add(\n",
    "            Dense(\n",
    "                units=hp.Int(\"layer_\" + str(i), min_value=32, max_value=2560, step=64),\n",
    "                activation=hp.Choice(\"act_\" + str(i), [\"relu\", \"sigmoid\"]),\n",
    "            )\n",
    "        )\n",
    "\n",
    "    # output shape of the model the same as the number of features\n",
    "    model.add(\n",
    "        Dense((1), activation=\"sigmoid\"),\n",
    "    )\n",
    "\n",
    "    # compile the model\n",
    "    hp_learning_rate = hp.Choice(\"learning_rate\", values=[1e-1, 1e-2, 1e-3, 1e-4])\n",
    "\n",
    "    model.compile(\n",
    "        optimizer=keras.optimizers.Adam(learning_rate=hp_learning_rate),\n",
    "        loss=keras.losses.BinaryCrossentropy(),\n",
    "        metrics=[\"accuracy\"],\n",
    "    )\n",
    "\n",
    "    return model\n"
   ]
  },
  {
   "cell_type": "code",
   "execution_count": null,
   "metadata": {},
   "outputs": [],
   "source": [
    "earlyStop = tf.keras.callbacks.EarlyStopping(monitor=\"val_loss\", patience=4)\n"
   ]
  },
  {
   "cell_type": "code",
   "execution_count": null,
   "metadata": {},
   "outputs": [],
   "source": [
    "tuner = kt.BayesianOptimization(\n",
    "    model_builder,\n",
    "    objective=kt.Objective(\"accuracy\", direction=\"max\"),\n",
    "    directory=r\"../logs\",\n",
    "    project_name=\"BayOpt_v1.01\",\n",
    ")\n"
   ]
  },
  {
   "cell_type": "code",
   "execution_count": null,
   "metadata": {},
   "outputs": [],
   "source": [
    "tuner.search(\n",
    "    x_scaled,\n",
    "    y,\n",
    "    epochs=20,\n",
    "    batch_size=64,\n",
    "    validation_split=0.2,\n",
    "    callbacks=[earlyStop],\n",
    ")\n"
   ]
  },
  {
   "cell_type": "code",
   "execution_count": null,
   "metadata": {},
   "outputs": [],
   "source": [
    "hpModel = tuner.get_best_models()[0]\n",
    "hpModel.summary()"
   ]
  },
  {
   "cell_type": "code",
   "execution_count": null,
   "metadata": {},
   "outputs": [],
   "source": [
    "trained_model = hpModel.fit(\n",
    "    x_scaled, y_scaled, epochs=30, batch_size=32, callbacks=earlyStop\n",
    ")"
   ]
  },
  {
   "cell_type": "code",
   "execution_count": null,
   "metadata": {},
   "outputs": [],
   "source": [
    "# currently redundant - trying to improve the model architecture\n",
    "# add CNN layers\n",
    "for i in range(hp.Int(\"num_conv_layers\", 1, 3)):\n",
    "    model.add(\n",
    "        layers.Conv1D(\n",
    "            filters=hp.Int(\"filters_\" + str(i), 32, 1280, 32),\n",
    "            kernel_size=hp.Choice(\"kernel_size_\" + str(i), [3, 5, 7]),\n",
    "            activation=\"relu\",\n",
    "            input_shape=(x_scaled.shape[1], 1),\n",
    "        )\n",
    "    )\n",
    "    model.add(layers.MaxPooling1D(pool_size=2))\n",
    "    model.add(layers.Flatten())"
   ]
  }
 ],
 "metadata": {
  "kernelspec": {
   "display_name": "Python 3",
   "language": "python",
   "name": "python3"
  },
  "language_info": {
   "codemirror_mode": {
    "name": "ipython",
    "version": 3
   },
   "file_extension": ".py",
   "mimetype": "text/x-python",
   "name": "python",
   "nbconvert_exporter": "python",
   "pygments_lexer": "ipython3",
   "version": "3.9.13"
  },
  "orig_nbformat": 4,
  "vscode": {
   "interpreter": {
    "hash": "25034407fed5d681614dac11a1c0537e8cb49e3a8883c071303eea01322943d9"
   }
  }
 },
 "nbformat": 4,
 "nbformat_minor": 2
}

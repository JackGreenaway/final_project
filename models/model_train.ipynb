{
 "cells": [
  {
   "cell_type": "code",
   "execution_count": null,
   "metadata": {},
   "outputs": [],
   "source": [
    "import pandas as pd\n",
    "import numpy as np\n",
    "\n",
    "from sklearn.preprocessing import MinMaxScaler, StandardScaler\n"
   ]
  },
  {
   "cell_type": "code",
   "execution_count": null,
   "metadata": {},
   "outputs": [],
   "source": [
    "raw_data = pd.read_csv(r\"../data/df_train.csv\", index_col=0)\n",
    "raw_data.dropna(axis=1, inplace=True)\n"
   ]
  },
  {
   "cell_type": "code",
   "execution_count": null,
   "metadata": {},
   "outputs": [],
   "source": [
    "us_data = pd.DataFrame()\n",
    "\n",
    "defualt = raw_data[raw_data[\"TARGET\"] == 1]\n",
    "\n",
    "paid = raw_data[raw_data[\"TARGET\"] == 0]\n",
    "paid = paid.sample(len(defualt), random_state=42)\n",
    "\n",
    "us_data = pd.concat([defualt, paid], axis=0)\n",
    "us_data = us_data.sample(frac=1)\n",
    "\n",
    "us_data.shape"
   ]
  },
  {
   "cell_type": "code",
   "execution_count": null,
   "metadata": {},
   "outputs": [],
   "source": [
    "x = us_data.drop([\"TARGET\"], axis=1)\n",
    "y = us_data.filter([\"TARGET\"], axis=1)\n",
    "\n",
    "scaler = StandardScaler()\n",
    "x_scaled = scaler.fit_transform(x)\n",
    "y_scaled = y.values\n",
    "\n",
    "x_scaled.shape, y_scaled.shape"
   ]
  },
  {
   "cell_type": "code",
   "execution_count": null,
   "metadata": {},
   "outputs": [],
   "source": [
    "y_scaled.dtype"
   ]
  },
  {
   "cell_type": "code",
   "execution_count": null,
   "metadata": {},
   "outputs": [],
   "source": [
    "import tensorflow as tf\n",
    "import keras\n",
    "from keras import Sequential\n",
    "from keras.layers import Dense, Dropout, LSTM\n",
    "from keras.initializers import GlorotUniform\n",
    "import keras_tuner as kt\n",
    "from kerastuner import HyperParameters as hp\n"
   ]
  },
  {
   "cell_type": "code",
   "execution_count": null,
   "metadata": {},
   "outputs": [],
   "source": [
    "def model_builder(hp):\n",
    "    model = Sequential()\n",
    "\n",
    "    # input layer\n",
    "    model.add(Dense(units=x_scaled.shape[1], input_shape=(x_scaled.shape[1],)))\n",
    "\n",
    "    # let the model decide how many layers it wants to have\n",
    "    for i in range(hp.Int(\"num_layers\", min_value=2, max_value=5, step=1)):\n",
    "        model.add(\n",
    "            Dropout(hp.Float(\"dropout_\" + str(i), min_value=0, max_value=0.5, step=0.1))\n",
    "        )\n",
    "        model.add(\n",
    "            Dense(\n",
    "                units=hp.Int(\"layer_\" + str(i), min_value=32, max_value=1024, step=64),\n",
    "                activation=hp.Choice(\"act_\" + str(i), [\"relu\", \"sigmoid\"]),\n",
    "            )\n",
    "        )\n",
    "\n",
    "    # output shape of the model the same as the number of features\n",
    "    model.add(\n",
    "        Dense(\n",
    "            (1),\n",
    "            activation=\"sigmoid\"),\n",
    "        )\n",
    "\n",
    "    hp_learning_rate = hp.Choice(\"learning_rate\", values=[1e-1, 1e-2, 1e-3, 1e-4])\n",
    "    \n",
    "    model.compile(\n",
    "        optimizer=keras.optimizers.Adam(learning_rate=hp_learning_rate),\n",
    "        loss=keras.losses.BinaryCrossentropy(),\n",
    "        metrics=[\"accuracy\"],\n",
    "    )\n",
    "\n",
    "    return model"
   ]
  },
  {
   "cell_type": "code",
   "execution_count": null,
   "metadata": {},
   "outputs": [],
   "source": [
    "earlyStop = tf.keras.callbacks.EarlyStopping(monitor=\"val_loss\", patience=4)"
   ]
  },
  {
   "cell_type": "code",
   "execution_count": null,
   "metadata": {},
   "outputs": [],
   "source": [
    "tuner = kt.BayesianOptimization(\n",
    "    model_builder,\n",
    "    objective=kt.Objective(\"accuracy\", direction=\"max\"),\n",
    "    directory=r\"../logs\",\n",
    "    project_name=\"BayOpt_v1.01\",\n",
    ")"
   ]
  },
  {
   "cell_type": "code",
   "execution_count": null,
   "metadata": {},
   "outputs": [],
   "source": [
    "tuner.search(\n",
    "    x_scaled,\n",
    "    y_scaled,\n",
    "    epochs=20,\n",
    "    batch_size=32,\n",
    "    validation_split=0.2,\n",
    "    callbacks=[earlyStop],\n",
    ")"
   ]
  },
  {
   "cell_type": "code",
   "execution_count": null,
   "metadata": {},
   "outputs": [],
   "source": [
    "hpModel = tuner.get_best_models()[0]\n",
    "hpModel.summary()\n"
   ]
  },
  {
   "cell_type": "code",
   "execution_count": null,
   "metadata": {},
   "outputs": [],
   "source": [
    "history = hpModel.fit(x_scaled, y_scaled, epochs=30, batch_size=32, callbacks=earlyStop)"
   ]
  },
  {
   "cell_type": "code",
   "execution_count": null,
   "metadata": {},
   "outputs": [],
   "source": [
    "import tensorflow as tf\n",
    "from tensorflow import keras\n",
    "from tensorflow.keras import layers\n",
    "from kerastuner import RandomSearch\n",
    "from kerastuner.engine.hyperparameters import HyperParameter\n",
    "\n",
    "# Load and preprocess the data\n",
    "(X_train, y_train), (X_test, y_test) = keras.datasets.creditcard_default.load_data()\n",
    "X_train = X_train.reshape(X_train.shape[0], X_train.shape[1], 1)\n",
    "X_test = X_test.reshape(X_test.shape[0], X_test.shape[1], 1)\n",
    "y_train = y_train.reshape(y_train.shape[0], 1)\n",
    "y_test = y_test.reshape(y_test.shape[0], 1)\n",
    "input_shape = (X_train.shape[1], 1)\n",
    "\n",
    "# Define the model-building function\n",
    "def build_model(hp):\n",
    "    model = keras.Sequential()\n",
    "    # Add convolutional layers\n",
    "    for i in range(hp.Int('num_layers', 1, 3)):\n",
    "        model.add(layers.Conv1D(filters=hp.Int('filters_' + str(i), 16, 256, 16),\n",
    "                                kernel_size=hp.Choice('kernel_size_' + str(i), [3, 5, 7]),\n",
    "                                activation='relu',\n",
    "                                input_shape=input_shape))\n",
    "        model.add(layers.MaxPooling1D(pool_size=2))\n",
    "    model.add(layers.Flatten())\n",
    "    # Add dense layers\n",
    "    for i in range(hp.Int('num_dense_layers', 1, 3)):\n",
    "        model.add(layers.Dense(units=hp.Int('units_' + str(i), 32, 512, 32), activation='relu'))\n",
    "        model.add(layers.Dropout(rate=hp.Float('dropout_rate_' + str(i), 0, 0.5, 0.1)))\n",
    "    model.add(layers.Dense(units=1, activation='sigmoid'))\n",
    "    # Compile the model\n",
    "    model.compile(optimizer=keras.optimizers.Adam(hp.Float('learning_rate', 0.0001, 0.01, sampling='log')),\n",
    "                  loss='binary_crossentropy',\n",
    "                  metrics=['accuracy'])\n",
    "    return model\n",
    "\n",
    "# Define the hyperparameters to search over\n",
    "tuner = RandomSearch(build_model,\n",
    "                     objective='val_accuracy',\n",
    "                     max_trials=10,\n",
    "                     directory='my_dir',\n",
    "                     project_name='credit_default_classification')\n",
    "\n",
    "# Search for the best hyperparameters\n",
    "tuner.search(X_train, y_train, epochs=10, validation_data=(X_test, y_test))\n",
    "\n",
    "# Print the best hyperparameters\n",
    "best_hyperparameters = tuner.get_best_hyperparameters(1)[0]\n",
    "print('Best hyperparameters:', best_hyperparameters)\n",
    "\n",
    "# Build and train the model with the best hyperparameters\n",
    "model = tuner.hypermodel.build(best_hyperparameters)\n",
    "model.fit(X_train, y_train, epochs=10, validation_data=(X_test, y_test))\n",
    "\n",
    "# Evaluate the model on the test set\n",
    "loss, accuracy = model.evaluate(X_test, y_test)\n",
    "print('Test accuracy:', accuracy)\n"
   ]
  }
 ],
 "metadata": {
  "kernelspec": {
   "display_name": "Python 3",
   "language": "python",
   "name": "python3"
  },
  "language_info": {
   "codemirror_mode": {
    "name": "ipython",
    "version": 3
   },
   "file_extension": ".py",
   "mimetype": "text/x-python",
   "name": "python",
   "nbconvert_exporter": "python",
   "pygments_lexer": "ipython3",
   "version": "3.9.13"
  },
  "orig_nbformat": 4
 },
 "nbformat": 4,
 "nbformat_minor": 2
}

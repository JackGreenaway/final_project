{
 "cells": [
  {
   "cell_type": "code",
   "execution_count": null,
   "metadata": {},
   "outputs": [],
   "source": [
    "import pandas as pd\n",
    "import numpy as np\n",
    "import tensorflow as tf\n",
    "import keras\n",
    "import keras_tuner as kt\n",
    "import matplotlib.pyplot as plt\n",
    "\n",
    "from sklearn.preprocessing import MinMaxScaler, StandardScaler\n",
    "from keras import Sequential, layers\n",
    "from keras.layers import Dense, Dropout\n",
    "from pickle import load"
   ]
  },
  {
   "cell_type": "code",
   "execution_count": null,
   "metadata": {},
   "outputs": [],
   "source": [
    "# raw_data = pd.read_csv(r\"../data/processed_data/undersampled_train.csv\", index_col=0)\n",
    "raw_data = pd.read_csv(r\"../data/processed_data/complete_data.csv\", index_col=0)"
   ]
  },
  {
   "cell_type": "code",
   "execution_count": null,
   "metadata": {},
   "outputs": [],
   "source": [
    "x = raw_data.drop([\"TARGET\"], axis=1)\n",
    "y = raw_data.filter([\"TARGET\"], axis=1)\n",
    "\n",
    "scaler = scaler = load(open(r\"scaler.pkl\", \"rb\"))  # MinMaxScaler often made values = 0.0, which = lost features in training\n",
    "x_scaled = scaler.transform(x)\n",
    "y = y.values  # we dont need to scale our binary classification\n",
    "\n",
    "# x_scaled = x_scaled.reshape(x_scaled.shape[0], x_scaled.shape[1], )  # data needs to be 3D for a CNN\n",
    "\n",
    "x_scaled.shape, y.shape"
   ]
  },
  {
   "cell_type": "code",
   "execution_count": null,
   "metadata": {},
   "outputs": [],
   "source": [
    "# split the dataset into 50/50 - 50 for tuning, 50 for kfold validation\n",
    "split = 0.5\n",
    "\n",
    "hp_x, hp_y = x_scaled[:int(len(x_scaled) * split)], y[:int(len(y) * split)] # hyperparameter set\n",
    "kf_x, kf_y = x_scaled[int(len(x_scaled) * split):], y[int(len(y) * split):] # kfold set\n"
   ]
  },
  {
   "cell_type": "code",
   "execution_count": null,
   "metadata": {},
   "outputs": [],
   "source": [
    "def model_builder(hp):\n",
    "    model = Sequential()\n",
    "\n",
    "    # input layer\n",
    "    model.add(Dense(units=x_scaled.shape[1], input_shape=(x_scaled.shape[1],)))\n",
    "\n",
    "    # let the model decide how many layers it wants to have\n",
    "    for i in range(hp.Int(\"num_dense_layers\", min_value=2, max_value=5, step=1)):\n",
    "        model.add(\n",
    "            Dropout(hp.Float(\"dropout_\" + str(i), min_value=0, max_value=0.5, step=0.1))\n",
    "        )\n",
    "        model.add(\n",
    "            Dense(\n",
    "                units=hp.Int(\"layer_\" + str(i), min_value=32, max_value=1024, step=64),\n",
    "                activation=hp.Choice(\"act_\" + str(i), [\"relu\", \"sigmoid\"]),\n",
    "            )\n",
    "        )\n",
    "\n",
    "    # output shape of the model the same as the number of features\n",
    "    model.add(\n",
    "        Dense((1), activation=\"sigmoid\"),\n",
    "    )\n",
    "\n",
    "    # compile the model\n",
    "    hp_learning_rate = hp.Choice(\"learning_rate\", values=[1e-1, 1e-2, 1e-3, 1e-4])\n",
    "\n",
    "    model.compile(\n",
    "        optimizer=keras.optimizers.Adam(learning_rate=hp_learning_rate),\n",
    "        loss=keras.losses.BinaryCrossentropy(),\n",
    "        metrics=[keras.metrics.AUC(), \"accuracy\"],\n",
    "    )\n",
    "\n",
    "    return model\n"
   ]
  },
  {
   "cell_type": "code",
   "execution_count": null,
   "metadata": {},
   "outputs": [],
   "source": [
    "earlyStop = tf.keras.callbacks.EarlyStopping(monitor=\"accuracy\", patience=2)"
   ]
  },
  {
   "cell_type": "code",
   "execution_count": null,
   "metadata": {},
   "outputs": [],
   "source": [
    "project = \"BayOpt_v1.04\"\n",
    "\n",
    "tuner = kt.BayesianOptimization(\n",
    "    model_builder,\n",
    "    objective=kt.Objective(\"accuracy\", direction=\"max\"),\n",
    "    max_trials=20, # I could stop it earlier, or even let it run forever but, my computer isn't powerful enough\n",
    "    directory=f\"../logs/{project}\",\n",
    "    project_name=project,\n",
    ")\n"
   ]
  },
  {
   "cell_type": "code",
   "execution_count": null,
   "metadata": {},
   "outputs": [],
   "source": [
    "tuner.search(\n",
    "    hp_x,\n",
    "    hp_y,\n",
    "    epochs=5,\n",
    "    batch_size=64,\n",
    "    validation_split=0.2,\n",
    "    callbacks=[earlyStop],\n",
    ")\n"
   ]
  },
  {
   "cell_type": "code",
   "execution_count": null,
   "metadata": {},
   "outputs": [],
   "source": [
    "hpModel = tuner.get_best_models()[0]\n",
    "hyperparameters = tuner.get_best_hyperparameters(num_trials=1)[0]\n",
    "\n",
    "hpModel.summary(), hyperparameters.values"
   ]
  },
  {
   "cell_type": "code",
   "execution_count": null,
   "metadata": {},
   "outputs": [],
   "source": [
    "trained_model = hpModel.fit(\n",
    "    x_scaled, y, epochs=10, batch_size=32, callbacks=earlyStop\n",
    ")"
   ]
  },
  {
   "cell_type": "code",
   "execution_count": null,
   "metadata": {},
   "outputs": [],
   "source": [
    "hpModel.save(f\"neural_network/{project}\")"
   ]
  },
  {
   "cell_type": "code",
   "execution_count": null,
   "metadata": {},
   "outputs": [],
   "source": [
    "model_performance = hpModel.evaluate(x_scaled, y)\n",
    "print(f\"Loss: {model_performance[0]}\\nAccuracy: {model_performance[1]}\")"
   ]
  },
  {
   "cell_type": "code",
   "execution_count": null,
   "metadata": {},
   "outputs": [],
   "source": [
    "fig, (ax1) = plt.subplots(figsize=(6, 4))\n",
    "fig.suptitle(\"Evaluation of Model Training\")\n",
    "ax2 = ax1.twinx()\n",
    "\n",
    "ax1.plot(trained_model.history[\"accuracy\"], label=\"Accuracy\")\n",
    "ax1.set_ylabel(\"Accuracy\")\n",
    "ax1.set_xlabel(\"Epoch\")\n",
    "\n",
    "ax2.plot(trained_model.history[\"loss\"], color=\"r\", label=\"Loss\")\n",
    "ax2.set_ylabel(\"Loss\")\n",
    "ax2.set_xlabel(\"Epoch\")\n",
    "\n",
    "fig.legend()\n",
    "\n",
    "# plt.tight_layout()\n",
    "# plt.savefig(r\"../images/neural_network-training_evaluation\")"
   ]
  }
 ],
 "metadata": {
  "kernelspec": {
   "display_name": "Python 3",
   "language": "python",
   "name": "python3"
  },
  "language_info": {
   "codemirror_mode": {
    "name": "ipython",
    "version": 3
   },
   "file_extension": ".py",
   "mimetype": "text/x-python",
   "name": "python",
   "nbconvert_exporter": "python",
   "pygments_lexer": "ipython3",
   "version": "3.9.13"
  },
  "orig_nbformat": 4,
  "vscode": {
   "interpreter": {
    "hash": "25034407fed5d681614dac11a1c0537e8cb49e3a8883c071303eea01322943d9"
   }
  }
 },
 "nbformat": 4,
 "nbformat_minor": 2
}

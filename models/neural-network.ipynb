{
 "cells": [
  {
   "cell_type": "code",
   "execution_count": 1,
   "metadata": {},
   "outputs": [],
   "source": [
    "import pandas as pd\n",
    "import numpy as np\n",
    "import tensorflow as tf\n",
    "import keras\n",
    "import keras_tuner as kt\n",
    "import matplotlib.pyplot as plt\n",
    "\n",
    "from sklearn.preprocessing import MinMaxScaler, StandardScaler\n",
    "from keras import Sequential, layers\n",
    "from keras.layers import Dense, Dropout\n",
    "from pickle import load"
   ]
  },
  {
   "cell_type": "code",
   "execution_count": 2,
   "metadata": {},
   "outputs": [],
   "source": [
    "# raw_data = pd.read_csv(r\"../data/processed_data/undersampled_train.csv\", index_col=0)\n",
    "raw_data = pd.read_csv(r\"../data/processed_data/oversampled_train.csv\", index_col=0)"
   ]
  },
  {
   "cell_type": "code",
   "execution_count": 3,
   "metadata": {},
   "outputs": [
    {
     "data": {
      "text/plain": [
       "((480566, 120), (480566, 1))"
      ]
     },
     "execution_count": 3,
     "metadata": {},
     "output_type": "execute_result"
    }
   ],
   "source": [
    "x = raw_data.drop([\"TARGET\"], axis=1)\n",
    "y = raw_data.filter([\"TARGET\"], axis=1)\n",
    "\n",
    "scaler = scaler = load(open(r\"scaler.pkl\", \"rb\"))  # MinMaxScaler often made values = 0.0, which = lost features in training\n",
    "x_scaled = scaler.transform(x)\n",
    "y = y.values  # we dont need to scale our binary classification\n",
    "\n",
    "# x_scaled = x_scaled.reshape(x_scaled.shape[0], x_scaled.shape[1], )  # data needs to be 3D for a CNN\n",
    "\n",
    "x_scaled.shape, y.shape"
   ]
  },
  {
   "cell_type": "code",
   "execution_count": 4,
   "metadata": {},
   "outputs": [],
   "source": [
    "def model_builder(hp):\n",
    "    model = Sequential()\n",
    "\n",
    "    # input layer\n",
    "    model.add(Dense(units=x_scaled.shape[1], input_shape=(x_scaled.shape[1],)))\n",
    "\n",
    "    # let the model decide how many layers it wants to have\n",
    "    for i in range(hp.Int(\"num_dense_layers\", min_value=2, max_value=5, step=1)):\n",
    "        model.add(\n",
    "            Dropout(hp.Float(\"dropout_\" + str(i), min_value=0, max_value=0.5, step=0.1))\n",
    "        )\n",
    "        model.add(\n",
    "            Dense(\n",
    "                units=hp.Int(\"layer_\" + str(i), min_value=32, max_value=1024, step=64),\n",
    "                activation=hp.Choice(\"act_\" + str(i), [\"relu\", \"sigmoid\"]),\n",
    "            )\n",
    "        )\n",
    "\n",
    "    # output shape of the model the same as the number of features\n",
    "    model.add(\n",
    "        Dense((1), activation=\"sigmoid\"),\n",
    "    )\n",
    "\n",
    "    # compile the model\n",
    "    hp_learning_rate = hp.Choice(\"learning_rate\", values=[1e-1, 1e-2, 1e-3, 1e-4])\n",
    "\n",
    "    model.compile(\n",
    "        optimizer=keras.optimizers.Adam(learning_rate=hp_learning_rate),\n",
    "        loss=keras.losses.BinaryCrossentropy(),\n",
    "        metrics=[keras.metrics.AUC(), \"accuracy\"],\n",
    "    )\n",
    "\n",
    "    return model\n"
   ]
  },
  {
   "cell_type": "code",
   "execution_count": 5,
   "metadata": {},
   "outputs": [],
   "source": [
    "earlyStop = tf.keras.callbacks.EarlyStopping(monitor=\"accuracy\", patience=2)"
   ]
  },
  {
   "cell_type": "code",
   "execution_count": 7,
   "metadata": {},
   "outputs": [
    {
     "name": "stdout",
     "output_type": "stream",
     "text": [
      "INFO:tensorflow:Reloading Tuner from ../logs/oversampled/BayOpt_v1.03\\BayOpt_v1.03\\tuner0.json\n"
     ]
    }
   ],
   "source": [
    "project = \"BayOpt_v1.03\"\n",
    "\n",
    "tuner = kt.BayesianOptimization(\n",
    "    model_builder,\n",
    "    objective=kt.Objective(\"accuracy\", direction=\"max\"),\n",
    "    max_trials=20, # I could stop it earlier, or even let it run forever but, my computer isn't powerful enough\n",
    "    directory=f\"../logs/oversampled/{project}\",\n",
    "    project_name=project,\n",
    ")\n"
   ]
  },
  {
   "cell_type": "code",
   "execution_count": 8,
   "metadata": {},
   "outputs": [
    {
     "name": "stdout",
     "output_type": "stream",
     "text": [
      "Trial 20 Complete [00h 10m 02s]\n",
      "accuracy: 0.894738495349884\n",
      "\n",
      "Best accuracy So Far: 0.9125456213951111\n",
      "Total elapsed time: 01h 35m 46s\n",
      "INFO:tensorflow:Oracle triggered exit\n"
     ]
    }
   ],
   "source": [
    "tuner.search(\n",
    "    x_scaled,\n",
    "    y,\n",
    "    epochs=5,\n",
    "    batch_size=64,\n",
    "    validation_split=0.2,\n",
    "    callbacks=[earlyStop],\n",
    ")\n"
   ]
  },
  {
   "cell_type": "code",
   "execution_count": 9,
   "metadata": {},
   "outputs": [
    {
     "name": "stdout",
     "output_type": "stream",
     "text": [
      "Model: \"sequential\"\n",
      "_________________________________________________________________\n",
      " Layer (type)                Output Shape              Param #   \n",
      "=================================================================\n",
      " dense (Dense)               (None, 120)               14520     \n",
      "                                                                 \n",
      " dropout (Dropout)           (None, 120)               0         \n",
      "                                                                 \n",
      " dense_1 (Dense)             (None, 544)               65824     \n",
      "                                                                 \n",
      " dropout_1 (Dropout)         (None, 544)               0         \n",
      "                                                                 \n",
      " dense_2 (Dense)             (None, 544)               296480    \n",
      "                                                                 \n",
      " dense_3 (Dense)             (None, 1)                 545       \n",
      "                                                                 \n",
      "=================================================================\n",
      "Total params: 377,369\n",
      "Trainable params: 377,369\n",
      "Non-trainable params: 0\n",
      "_________________________________________________________________\n"
     ]
    },
    {
     "data": {
      "text/plain": [
       "(None,\n",
       " {'num_dense_layers': 2,\n",
       "  'dropout_0': 0.0,\n",
       "  'layer_0': 544,\n",
       "  'act_0': 'relu',\n",
       "  'dropout_1': 0.30000000000000004,\n",
       "  'layer_1': 544,\n",
       "  'act_1': 'relu',\n",
       "  'learning_rate': 0.001,\n",
       "  'dropout_2': 0.0,\n",
       "  'layer_2': 800,\n",
       "  'act_2': 'sigmoid',\n",
       "  'dropout_3': 0.2,\n",
       "  'layer_3': 672,\n",
       "  'act_3': 'sigmoid',\n",
       "  'dropout_4': 0.0,\n",
       "  'layer_4': 32,\n",
       "  'act_4': 'sigmoid'})"
      ]
     },
     "execution_count": 9,
     "metadata": {},
     "output_type": "execute_result"
    }
   ],
   "source": [
    "hpModel = tuner.get_best_models()[0]\n",
    "hyperparameters = tuner.get_best_hyperparameters(num_trials=1)[0]\n",
    "\n",
    "hpModel.summary(), hyperparameters.values"
   ]
  },
  {
   "cell_type": "code",
   "execution_count": 11,
   "metadata": {},
   "outputs": [
    {
     "name": "stdout",
     "output_type": "stream",
     "text": [
      "Epoch 1/10\n",
      "15018/15018 [==============================] - 90s 6ms/step - loss: 0.2288 - auc: 0.9600 - accuracy: 0.9093\n",
      "Epoch 2/10\n",
      "15018/15018 [==============================] - 88s 6ms/step - loss: 0.2253 - auc: 0.9612 - accuracy: 0.9113\n",
      "Epoch 3/10\n",
      "15018/15018 [==============================] - 83s 6ms/step - loss: 0.2250 - auc: 0.9621 - accuracy: 0.9133\n",
      "Epoch 4/10\n",
      "15018/15018 [==============================] - 82s 5ms/step - loss: 0.2193 - auc: 0.9626 - accuracy: 0.9144\n",
      "Epoch 5/10\n",
      "15018/15018 [==============================] - 83s 5ms/step - loss: 0.2173 - auc: 0.9632 - accuracy: 0.9160\n",
      "Epoch 6/10\n",
      "15018/15018 [==============================] - 83s 6ms/step - loss: 0.2156 - auc: 0.9634 - accuracy: 0.9165\n",
      "Epoch 7/10\n",
      "15018/15018 [==============================] - 83s 6ms/step - loss: 0.2160 - auc: 0.9635 - accuracy: 0.9168\n",
      "Epoch 8/10\n",
      "15018/15018 [==============================] - 83s 6ms/step - loss: 0.2189 - auc: 0.9639 - accuracy: 0.9178\n",
      "Epoch 9/10\n",
      "15018/15018 [==============================] - 84s 6ms/step - loss: 0.2184 - auc: 0.9645 - accuracy: 0.9188\n",
      "Epoch 10/10\n",
      "15018/15018 [==============================] - 83s 6ms/step - loss: 0.2120 - auc: 0.9644 - accuracy: 0.9186\n"
     ]
    }
   ],
   "source": [
    "trained_model = hpModel.fit(\n",
    "    x_scaled, y, epochs=10, batch_size=32, callbacks=earlyStop\n",
    ")"
   ]
  },
  {
   "cell_type": "code",
   "execution_count": 21,
   "metadata": {},
   "outputs": [
    {
     "name": "stdout",
     "output_type": "stream",
     "text": [
      "INFO:tensorflow:Assets written to: neural_network/BayOpt_v1.03\\assets\n"
     ]
    }
   ],
   "source": [
    "hpModel.save(f\"neural_network/{project}\")"
   ]
  },
  {
   "cell_type": "code",
   "execution_count": 22,
   "metadata": {},
   "outputs": [
    {
     "name": "stdout",
     "output_type": "stream",
     "text": [
      "15018/15018 [==============================] - 43s 3ms/step - loss: 0.2027 - auc: 0.9682 - accuracy: 0.9221\n",
      "Loss: 0.20271925628185272\n",
      "Accuracy: 0.968172013759613\n"
     ]
    }
   ],
   "source": [
    "model_performance = hpModel.evaluate(x_scaled, y)\n",
    "print(f\"Loss: {model_performance[0]}\\nAccuracy: {model_performance[1]}\")"
   ]
  },
  {
   "cell_type": "code",
   "execution_count": 23,
   "metadata": {},
   "outputs": [
    {
     "data": {
      "text/plain": [
       "<matplotlib.legend.Legend at 0x2139cd63e50>"
      ]
     },
     "execution_count": 23,
     "metadata": {},
     "output_type": "execute_result"
    },
    {
     "data": {
      "image/png": "[encoded data removed]",
      "text/plain": [
       "<Figure size 600x400 with 2 Axes>"
      ]
     },
     "metadata": {},
     "output_type": "display_data"
    }
   ],
   "source": [
    "fig, (ax1) = plt.subplots(figsize=(6, 4))\n",
    "fig.suptitle(\"Evaluation of Model Training\")\n",
    "ax2 = ax1.twinx()\n",
    "\n",
    "ax1.plot(trained_model.history[\"accuracy\"], label=\"Accuracy\")\n",
    "ax1.set_ylabel(\"Accuracy\")\n",
    "ax1.set_xlabel(\"Epoch\")\n",
    "\n",
    "ax2.plot(trained_model.history[\"loss\"], color=\"r\", label=\"Loss\")\n",
    "ax2.set_ylabel(\"Loss\")\n",
    "ax2.set_xlabel(\"Epoch\")\n",
    "\n",
    "fig.legend()"
   ]
  }
 ],
 "metadata": {
  "kernelspec": {
   "display_name": "Python 3",
   "language": "python",
   "name": "python3"
  },
  "language_info": {
   "codemirror_mode": {
    "name": "ipython",
    "version": 3
   },
   "file_extension": ".py",
   "mimetype": "text/x-python",
   "name": "python",
   "nbconvert_exporter": "python",
   "pygments_lexer": "ipython3",
   "version": "3.9.13"
  },
  "orig_nbformat": 4,
  "vscode": {
   "interpreter": {
    "hash": "25034407fed5d681614dac11a1c0537e8cb49e3a8883c071303eea01322943d9"
   }
  }
 },
 "nbformat": 4,
 "nbformat_minor": 2
}

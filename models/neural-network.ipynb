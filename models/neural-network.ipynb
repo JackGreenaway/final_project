{
 "cells": [
  {
   "cell_type": "code",
   "execution_count": 1,
   "metadata": {},
   "outputs": [],
   "source": [
    "import pandas as pd\n",
    "import numpy as np\n",
    "import tensorflow as tf\n",
    "import keras\n",
    "import keras_tuner as kt\n",
    "import matplotlib.pyplot as plt\n",
    "import performance_metrics\n",
    "import seaborn as sns\n",
    "\n",
    "from sklearn.preprocessing import MinMaxScaler, StandardScaler\n",
    "from sklearn.model_selection import KFold\n",
    "from sklearn.metrics import confusion_matrix\n",
    "\n",
    "from keras import Sequential, layers\n",
    "from keras.layers import Dense, Dropout\n",
    "from pickle import load"
   ]
  },
  {
   "cell_type": "code",
   "execution_count": 2,
   "metadata": {},
   "outputs": [],
   "source": [
    "# raw_data = pd.read_csv(r\"../data/processed_data/undersampled_train.csv\", index_col=0)\n",
    "data = pd.read_csv(r\"../data/processed_data/complete_data.csv\", index_col=0)"
   ]
  },
  {
   "cell_type": "code",
   "execution_count": 3,
   "metadata": {},
   "outputs": [
    {
     "data": {
      "text/plain": [
       "((282686, 202), (282686,), (282686, 202), (282686,))"
      ]
     },
     "execution_count": 3,
     "metadata": {},
     "output_type": "execute_result"
    }
   ],
   "source": [
    "# split into features\n",
    "x = data.drop([\"TARGET\"], axis=1)\n",
    "y = data.filter([\"TARGET\"], axis=1)\n",
    "y = y.values.reshape(y.shape[0])\n",
    "\n",
    "# split dataset for hyperparameter tuning and kfold\n",
    "split = 0.5\n",
    "hp_x, hp_y = x[:int(len(x) * split)], y[:int(len(y) * split)] # hyperparameter set\n",
    "kf_x, kf_y = np.array(x[int(len(x) * split):]), y[int(len(y) * split):] # kfold set\n",
    "\n",
    "hp_x.shape, hp_y.shape, kf_x.shape, kf_y.shape\n"
   ]
  },
  {
   "cell_type": "code",
   "execution_count": 4,
   "metadata": {},
   "outputs": [],
   "source": [
    "# scale the data for hyperparameter tuning\n",
    "scaler = StandardScaler()\n",
    "hp_x = scaler.fit_transform(hp_x)"
   ]
  },
  {
   "cell_type": "code",
   "execution_count": 5,
   "metadata": {},
   "outputs": [],
   "source": [
    "def model_builder(hp):\n",
    "    model = Sequential()\n",
    "\n",
    "    # input layer\n",
    "    model.add(Dense(units=x.shape[1], input_shape=(x.shape[1],)))\n",
    "\n",
    "    # let the model decide how many layers it wants to have\n",
    "    for i in range(hp.Int(\"num_dense_layers\", min_value=2, max_value=5, step=1)):\n",
    "        model.add(\n",
    "            Dropout(hp.Float(\"dropout_\" + str(i), min_value=0, max_value=0.5, step=0.1))\n",
    "        )\n",
    "        model.add(\n",
    "            Dense(\n",
    "                units=hp.Int(\"layer_\" + str(i), min_value=32, max_value=1024, step=64),\n",
    "                activation=hp.Choice(\"act_\" + str(i), [\"relu\", \"sigmoid\"]),\n",
    "            )\n",
    "        )\n",
    "\n",
    "    # output shape of the model the same as the number of features\n",
    "    model.add(\n",
    "        Dense((1), activation=\"sigmoid\"),\n",
    "    )\n",
    "\n",
    "    # compile the model\n",
    "    hp_learning_rate = hp.Choice(\"learning_rate\", values=[1e-1, 1e-2, 1e-3, 1e-4])\n",
    "\n",
    "    model.compile(\n",
    "        optimizer=keras.optimizers.Adam(learning_rate=hp_learning_rate),\n",
    "        loss=keras.losses.BinaryCrossentropy(),\n",
    "        metrics=[keras.metrics.AUC(), \"accuracy\"],\n",
    "    )\n",
    "\n",
    "    return model"
   ]
  },
  {
   "cell_type": "code",
   "execution_count": 6,
   "metadata": {},
   "outputs": [],
   "source": [
    "earlyStop = tf.keras.callbacks.EarlyStopping(monitor=\"accuracy\", patience=2)"
   ]
  },
  {
   "cell_type": "code",
   "execution_count": 7,
   "metadata": {},
   "outputs": [
    {
     "name": "stdout",
     "output_type": "stream",
     "text": [
      "INFO:tensorflow:Reloading Tuner from ../logs/nn/nn_v1\\nn_v1\\tuner0.json\n"
     ]
    }
   ],
   "source": [
    "project = \"nn_v1\"\n",
    "\n",
    "tuner = kt.BayesianOptimization(\n",
    "    model_builder,\n",
    "    objective=kt.Objective(\"accuracy\", direction=\"max\"),\n",
    "    max_trials=20,  # I could stop it earlier, or even let it run forever but, my computer isn't powerful enough\n",
    "    directory=f\"../logs/nn/{project}\",\n",
    "    project_name=project,\n",
    ")"
   ]
  },
  {
   "cell_type": "code",
   "execution_count": 8,
   "metadata": {},
   "outputs": [
    {
     "name": "stdout",
     "output_type": "stream",
     "text": [
      "INFO:tensorflow:Oracle triggered exit\n"
     ]
    }
   ],
   "source": [
    "tuner.search(\n",
    "    hp_x,\n",
    "    hp_y,\n",
    "    epochs=5,\n",
    "    batch_size=64,\n",
    "    validation_split=0.2,\n",
    "    callbacks=[earlyStop],\n",
    ")"
   ]
  },
  {
   "cell_type": "code",
   "execution_count": 9,
   "metadata": {},
   "outputs": [
    {
     "name": "stdout",
     "output_type": "stream",
     "text": [
      "Model: \"sequential\"\n",
      "_________________________________________________________________\n",
      " Layer (type)                Output Shape              Param #   \n",
      "=================================================================\n",
      " dense (Dense)               (None, 202)               41006     \n",
      "                                                                 \n",
      " dropout (Dropout)           (None, 202)               0         \n",
      "                                                                 \n",
      " dense_1 (Dense)             (None, 352)               71456     \n",
      "                                                                 \n",
      " dropout_1 (Dropout)         (None, 352)               0         \n",
      "                                                                 \n",
      " dense_2 (Dense)             (None, 160)               56480     \n",
      "                                                                 \n",
      " dense_3 (Dense)             (None, 1)                 161       \n",
      "                                                                 \n",
      "=================================================================\n",
      "Total params: 169,103\n",
      "Trainable params: 169,103\n",
      "Non-trainable params: 0\n",
      "_________________________________________________________________\n"
     ]
    }
   ],
   "source": [
    "hpModel = tuner.get_best_models()[0]\n",
    "hyperparameters = tuner.get_best_hyperparameters(num_trials=1)[0]\n",
    "\n",
    "hpModel.summary() #, hyperparameters.values"
   ]
  },
  {
   "cell_type": "code",
   "execution_count": 10,
   "metadata": {},
   "outputs": [
    {
     "name": "stdout",
     "output_type": "stream",
     "text": [
      "INFO:tensorflow:Assets written to: neural_network/nn_v1\\assets\n"
     ]
    }
   ],
   "source": [
    "# save the model architecture for another time\n",
    "hpModel.save(f\"neural_network/{project}\")"
   ]
  },
  {
   "cell_type": "code",
   "execution_count": 11,
   "metadata": {},
   "outputs": [
    {
     "name": "stderr",
     "output_type": "stream",
     "text": [
      "c:\\Python\\Python39\\lib\\site-packages\\sklearn\\base.py:439: UserWarning: X does not have valid feature names, but StandardScaler was fitted with feature names\n",
      "  warnings.warn(\n",
      "c:\\Python\\Python39\\lib\\site-packages\\sklearn\\base.py:439: UserWarning: X does not have valid feature names, but StandardScaler was fitted with feature names\n",
      "  warnings.warn(\n"
     ]
    },
    {
     "name": "stdout",
     "output_type": "stream",
     "text": [
      "Epoch 1/10\n",
      "3534/3534 [==============================] - 26s 7ms/step - loss: 0.0945 - auc: 0.9915 - accuracy: 0.9659\n",
      "Epoch 2/10\n",
      "3534/3534 [==============================] - 22s 6ms/step - loss: 0.0917 - auc: 0.9921 - accuracy: 0.9667\n",
      "Epoch 3/10\n",
      "3534/3534 [==============================] - 21s 6ms/step - loss: 0.0906 - auc: 0.9923 - accuracy: 0.9671\n",
      "Epoch 4/10\n",
      "3534/3534 [==============================] - 21s 6ms/step - loss: 0.0895 - auc: 0.9926 - accuracy: 0.9677\n",
      "Epoch 5/10\n",
      "3534/3534 [==============================] - 21s 6ms/step - loss: 0.0893 - auc: 0.9926 - accuracy: 0.9680\n",
      "Epoch 6/10\n",
      "3534/3534 [==============================] - 21s 6ms/step - loss: 0.0884 - auc: 0.9928 - accuracy: 0.9680\n",
      "Epoch 7/10\n",
      "3534/3534 [==============================] - 22s 6ms/step - loss: 0.0878 - auc: 0.9929 - accuracy: 0.9681\n",
      "Epoch 8/10\n",
      "3534/3534 [==============================] - 22s 6ms/step - loss: 0.0870 - auc: 0.9931 - accuracy: 0.9684\n",
      "Epoch 9/10\n",
      "3534/3534 [==============================] - 22s 6ms/step - loss: 0.0865 - auc: 0.9930 - accuracy: 0.9689\n",
      "Epoch 10/10\n",
      "3534/3534 [==============================] - 23s 6ms/step - loss: 0.0854 - auc: 0.9933 - accuracy: 0.9692\n",
      "1767/1767 [==============================] - 5s 3ms/step\n",
      "Fold 1 completed\n"
     ]
    },
    {
     "name": "stderr",
     "output_type": "stream",
     "text": [
      "c:\\Python\\Python39\\lib\\site-packages\\sklearn\\base.py:439: UserWarning: X does not have valid feature names, but StandardScaler was fitted with feature names\n",
      "  warnings.warn(\n",
      "c:\\Python\\Python39\\lib\\site-packages\\sklearn\\base.py:439: UserWarning: X does not have valid feature names, but StandardScaler was fitted with feature names\n",
      "  warnings.warn(\n"
     ]
    },
    {
     "name": "stdout",
     "output_type": "stream",
     "text": [
      "Epoch 1/10\n",
      "3534/3534 [==============================] - 23s 6ms/step - loss: 0.0863 - auc: 0.9931 - accuracy: 0.9690\n",
      "Epoch 2/10\n",
      "3534/3534 [==============================] - 22s 6ms/step - loss: 0.0854 - auc: 0.9933 - accuracy: 0.9693\n",
      "Epoch 3/10\n",
      "3534/3534 [==============================] - 21s 6ms/step - loss: 0.0847 - auc: 0.9934 - accuracy: 0.9693\n",
      "Epoch 4/10\n",
      "3534/3534 [==============================] - 22s 6ms/step - loss: 0.0846 - auc: 0.9933 - accuracy: 0.9697\n",
      "Epoch 5/10\n",
      "3534/3534 [==============================] - 21s 6ms/step - loss: 0.0837 - auc: 0.9935 - accuracy: 0.9699\n",
      "Epoch 6/10\n",
      "3534/3534 [==============================] - 21s 6ms/step - loss: 0.0833 - auc: 0.9937 - accuracy: 0.9697\n",
      "Epoch 7/10\n",
      "3534/3534 [==============================] - 21s 6ms/step - loss: 0.0826 - auc: 0.9937 - accuracy: 0.9703\n",
      "Epoch 8/10\n",
      "3534/3534 [==============================] - 21s 6ms/step - loss: 0.0826 - auc: 0.9937 - accuracy: 0.9701\n",
      "Epoch 9/10\n",
      "3534/3534 [==============================] - 21s 6ms/step - loss: 0.0823 - auc: 0.9937 - accuracy: 0.9706\n",
      "Epoch 10/10\n",
      "3534/3534 [==============================] - 22s 6ms/step - loss: 0.0821 - auc: 0.9938 - accuracy: 0.9706\n",
      "1767/1767 [==============================] - 4s 2ms/step\n",
      "Fold 2 completed\n"
     ]
    },
    {
     "name": "stderr",
     "output_type": "stream",
     "text": [
      "c:\\Python\\Python39\\lib\\site-packages\\sklearn\\base.py:439: UserWarning: X does not have valid feature names, but StandardScaler was fitted with feature names\n",
      "  warnings.warn(\n",
      "c:\\Python\\Python39\\lib\\site-packages\\sklearn\\base.py:439: UserWarning: X does not have valid feature names, but StandardScaler was fitted with feature names\n",
      "  warnings.warn(\n"
     ]
    },
    {
     "name": "stdout",
     "output_type": "stream",
     "text": [
      "Epoch 1/10\n",
      "3534/3534 [==============================] - 22s 6ms/step - loss: 0.0831 - auc: 0.9936 - accuracy: 0.9700\n",
      "Epoch 2/10\n",
      "3534/3534 [==============================] - 21s 6ms/step - loss: 0.0826 - auc: 0.9938 - accuracy: 0.9699\n",
      "Epoch 3/10\n",
      "3534/3534 [==============================] - 21s 6ms/step - loss: 0.0822 - auc: 0.9938 - accuracy: 0.9701\n",
      "Epoch 4/10\n",
      "3534/3534 [==============================] - 20s 6ms/step - loss: 0.0820 - auc: 0.9938 - accuracy: 0.9704\n",
      "Epoch 5/10\n",
      "3534/3534 [==============================] - 20s 6ms/step - loss: 0.0821 - auc: 0.9939 - accuracy: 0.9703\n",
      "Epoch 6/10\n",
      "3534/3534 [==============================] - 20s 6ms/step - loss: 0.0816 - auc: 0.9939 - accuracy: 0.9705\n",
      "Epoch 7/10\n",
      "3534/3534 [==============================] - 21s 6ms/step - loss: 0.0816 - auc: 0.9939 - accuracy: 0.9705\n",
      "Epoch 8/10\n",
      "3534/3534 [==============================] - 21s 6ms/step - loss: 0.0812 - auc: 0.9940 - accuracy: 0.9705\n",
      "Epoch 9/10\n",
      "3534/3534 [==============================] - 21s 6ms/step - loss: 0.0810 - auc: 0.9940 - accuracy: 0.9706\n",
      "Epoch 10/10\n",
      "3534/3534 [==============================] - 22s 6ms/step - loss: 0.0807 - auc: 0.9940 - accuracy: 0.9707\n",
      "1767/1767 [==============================] - 4s 2ms/step\n",
      "Fold 3 completed\n"
     ]
    },
    {
     "name": "stderr",
     "output_type": "stream",
     "text": [
      "c:\\Python\\Python39\\lib\\site-packages\\sklearn\\base.py:439: UserWarning: X does not have valid feature names, but StandardScaler was fitted with feature names\n",
      "  warnings.warn(\n",
      "c:\\Python\\Python39\\lib\\site-packages\\sklearn\\base.py:439: UserWarning: X does not have valid feature names, but StandardScaler was fitted with feature names\n",
      "  warnings.warn(\n"
     ]
    },
    {
     "name": "stdout",
     "output_type": "stream",
     "text": [
      "Epoch 1/10\n",
      "3534/3534 [==============================] - 22s 6ms/step - loss: 0.0821 - auc: 0.9938 - accuracy: 0.9702\n",
      "Epoch 2/10\n",
      "3534/3534 [==============================] - 21s 6ms/step - loss: 0.0820 - auc: 0.9938 - accuracy: 0.9705\n",
      "Epoch 3/10\n",
      "3534/3534 [==============================] - 21s 6ms/step - loss: 0.0819 - auc: 0.9938 - accuracy: 0.9707\n",
      "Epoch 4/10\n",
      "3534/3534 [==============================] - 21s 6ms/step - loss: 0.0810 - auc: 0.9939 - accuracy: 0.9708\n",
      "Epoch 5/10\n",
      "3534/3534 [==============================] - 21s 6ms/step - loss: 0.0805 - auc: 0.9941 - accuracy: 0.9711\n",
      "Epoch 6/10\n",
      "3534/3534 [==============================] - 21s 6ms/step - loss: 0.0807 - auc: 0.9940 - accuracy: 0.9708\n",
      "Epoch 7/10\n",
      "3534/3534 [==============================] - 21s 6ms/step - loss: 0.0800 - auc: 0.9941 - accuracy: 0.9711\n",
      "Epoch 8/10\n",
      "3534/3534 [==============================] - 21s 6ms/step - loss: 0.0802 - auc: 0.9941 - accuracy: 0.9711\n",
      "Epoch 9/10\n",
      "3534/3534 [==============================] - 22s 6ms/step - loss: 0.0800 - auc: 0.9941 - accuracy: 0.9714\n",
      "Epoch 10/10\n",
      "3534/3534 [==============================] - 22s 6ms/step - loss: 0.0800 - auc: 0.9942 - accuracy: 0.9708\n",
      "1767/1767 [==============================] - 4s 2ms/step\n",
      "Fold 4 completed\n"
     ]
    },
    {
     "name": "stderr",
     "output_type": "stream",
     "text": [
      "c:\\Python\\Python39\\lib\\site-packages\\sklearn\\base.py:439: UserWarning: X does not have valid feature names, but StandardScaler was fitted with feature names\n",
      "  warnings.warn(\n",
      "c:\\Python\\Python39\\lib\\site-packages\\sklearn\\base.py:439: UserWarning: X does not have valid feature names, but StandardScaler was fitted with feature names\n",
      "  warnings.warn(\n"
     ]
    },
    {
     "name": "stdout",
     "output_type": "stream",
     "text": [
      "Epoch 1/10\n",
      "3534/3534 [==============================] - 21s 6ms/step - loss: 0.0809 - auc: 0.9940 - accuracy: 0.9707\n",
      "Epoch 2/10\n",
      "3534/3534 [==============================] - 21s 6ms/step - loss: 0.0803 - auc: 0.9941 - accuracy: 0.9710\n",
      "Epoch 3/10\n",
      "3534/3534 [==============================] - 22s 6ms/step - loss: 0.0802 - auc: 0.9940 - accuracy: 0.9710\n",
      "Epoch 4/10\n",
      "3534/3534 [==============================] - 21s 6ms/step - loss: 0.0804 - auc: 0.9941 - accuracy: 0.9711\n",
      "Epoch 5/10\n",
      "3534/3534 [==============================] - 21s 6ms/step - loss: 0.0794 - auc: 0.9942 - accuracy: 0.9713\n",
      "Epoch 6/10\n",
      "3534/3534 [==============================] - 23s 6ms/step - loss: 0.0792 - auc: 0.9942 - accuracy: 0.9714\n",
      "Epoch 7/10\n",
      "3534/3534 [==============================] - 22s 6ms/step - loss: 0.0791 - auc: 0.9942 - accuracy: 0.9714\n",
      "Epoch 8/10\n",
      "3534/3534 [==============================] - 21s 6ms/step - loss: 0.0800 - auc: 0.9941 - accuracy: 0.9713\n",
      "1767/1767 [==============================] - 4s 2ms/step\n",
      "Fold 5 completed\n"
     ]
    }
   ],
   "source": [
    "kfold = KFold(n_splits=5, shuffle=True, random_state=663)\n",
    "\n",
    "results = pd.DataFrame(\n",
    "    columns=[\"accuracy\", \"precision\", \"recall\", \"f1\", \"auc\", \"fpr\", \"fnr\"]\n",
    ")\n",
    "results.index.name = \"Model\"\n",
    "\n",
    "model = keras.models.load_model(f\"neural_network/{project}/\")\n",
    "\n",
    "counter = 1\n",
    "confusion_matrix_sum = None\n",
    "\n",
    "for train_index, test_index in kfold.split(kf_x):\n",
    "    x_train, x_test = kf_x[train_index], kf_x[test_index]\n",
    "    y_train, y_test = kf_y[train_index], kf_y[test_index]\n",
    "    \n",
    "    # scale x features\n",
    "    x_train, x_test = scaler.transform(x_train), scaler.transform(x_test)\n",
    "\n",
    "    # fit model to train set\n",
    "    trained_model = model.fit(x_train, y_train, epochs=10, batch_size=64, callbacks=earlyStop)\n",
    "    y_pred = model.predict(x_test)\n",
    "\n",
    "    y_pred_binary = np.where(y_pred >= 0.5, 1, 0)\n",
    "\n",
    "    # calculate confusion matrix, and append data for later visualisation\n",
    "    cm = confusion_matrix(y_test, y_pred_binary)\n",
    "    fpr = cm[0][1] / cm.sum()\n",
    "    fnr = cm[1][0] / cm.sum()\n",
    "\n",
    "    if confusion_matrix_sum is None:\n",
    "        confusion_matrix_sum = cm\n",
    "    else:\n",
    "        confusion_matrix_sum += cm\n",
    "\n",
    "    # calculate metrics and append to dataframe\n",
    "    metrics = performance_metrics.metrics(y_test, y_pred_binary)\n",
    "    accuracy, precision, recall, f1, auc_result = metrics.calculate_metrics()\n",
    "    results.loc[counter] = [accuracy, precision, recall, f1, auc_result, fpr, fnr]\n",
    "\n",
    "    print(f\"Fold {counter} completed\")\n",
    "    counter += 1\n",
    "\n",
    "# calculate the average over all models\n",
    "results.loc[\"Average\"] = [\n",
    "    results.accuracy.mean(),\n",
    "    results.precision.mean(),\n",
    "    results.recall.mean(),\n",
    "    results.f1.mean(),\n",
    "    results.auc.mean(),\n",
    "    results.fpr.mean(),\n",
    "    results.fnr.mean(),\n",
    "]"
   ]
  },
  {
   "cell_type": "code",
   "execution_count": 12,
   "metadata": {},
   "outputs": [
    {
     "data": {
      "text/html": [
       "<div>\n",
       "<style scoped>\n",
       "    .dataframe tbody tr th:only-of-type {\n",
       "        vertical-align: middle;\n",
       "    }\n",
       "\n",
       "    .dataframe tbody tr th {\n",
       "        vertical-align: top;\n",
       "    }\n",
       "\n",
       "    .dataframe thead th {\n",
       "        text-align: right;\n",
       "    }\n",
       "</style>\n",
       "<table border=\"1\" class=\"dataframe\">\n",
       "  <thead>\n",
       "    <tr style=\"text-align: right;\">\n",
       "      <th></th>\n",
       "      <th>accuracy</th>\n",
       "      <th>precision</th>\n",
       "      <th>recall</th>\n",
       "      <th>f1</th>\n",
       "      <th>auc</th>\n",
       "      <th>fpr</th>\n",
       "      <th>fnr</th>\n",
       "    </tr>\n",
       "    <tr>\n",
       "      <th>Model</th>\n",
       "      <th></th>\n",
       "      <th></th>\n",
       "      <th></th>\n",
       "      <th></th>\n",
       "      <th></th>\n",
       "      <th></th>\n",
       "      <th></th>\n",
       "    </tr>\n",
       "  </thead>\n",
       "  <tbody>\n",
       "    <tr>\n",
       "      <th>1</th>\n",
       "      <td>96.87</td>\n",
       "      <td>98.71</td>\n",
       "      <td>95.00</td>\n",
       "      <td>96.82</td>\n",
       "      <td>96.88</td>\n",
       "      <td>0.62</td>\n",
       "      <td>2.50</td>\n",
       "    </tr>\n",
       "    <tr>\n",
       "      <th>2</th>\n",
       "      <td>97.11</td>\n",
       "      <td>98.56</td>\n",
       "      <td>95.67</td>\n",
       "      <td>97.10</td>\n",
       "      <td>97.13</td>\n",
       "      <td>0.70</td>\n",
       "      <td>2.19</td>\n",
       "    </tr>\n",
       "    <tr>\n",
       "      <th>3</th>\n",
       "      <td>97.14</td>\n",
       "      <td>98.81</td>\n",
       "      <td>95.39</td>\n",
       "      <td>97.07</td>\n",
       "      <td>97.13</td>\n",
       "      <td>0.57</td>\n",
       "      <td>2.29</td>\n",
       "    </tr>\n",
       "    <tr>\n",
       "      <th>4</th>\n",
       "      <td>97.20</td>\n",
       "      <td>98.53</td>\n",
       "      <td>95.86</td>\n",
       "      <td>97.18</td>\n",
       "      <td>97.21</td>\n",
       "      <td>0.72</td>\n",
       "      <td>2.08</td>\n",
       "    </tr>\n",
       "    <tr>\n",
       "      <th>5</th>\n",
       "      <td>97.14</td>\n",
       "      <td>98.00</td>\n",
       "      <td>96.22</td>\n",
       "      <td>97.10</td>\n",
       "      <td>97.13</td>\n",
       "      <td>0.98</td>\n",
       "      <td>1.88</td>\n",
       "    </tr>\n",
       "    <tr>\n",
       "      <th>Average</th>\n",
       "      <td>97.09</td>\n",
       "      <td>98.52</td>\n",
       "      <td>95.63</td>\n",
       "      <td>97.05</td>\n",
       "      <td>97.09</td>\n",
       "      <td>0.72</td>\n",
       "      <td>2.19</td>\n",
       "    </tr>\n",
       "  </tbody>\n",
       "</table>\n",
       "</div>"
      ],
      "text/plain": [
       "         accuracy  precision  recall     f1    auc   fpr   fnr\n",
       "Model                                                         \n",
       "1           96.87      98.71   95.00  96.82  96.88  0.62  2.50\n",
       "2           97.11      98.56   95.67  97.10  97.13  0.70  2.19\n",
       "3           97.14      98.81   95.39  97.07  97.13  0.57  2.29\n",
       "4           97.20      98.53   95.86  97.18  97.21  0.72  2.08\n",
       "5           97.14      98.00   96.22  97.10  97.13  0.98  1.88\n",
       "Average     97.09      98.52   95.63  97.05  97.09  0.72  2.19"
      ]
     },
     "execution_count": 12,
     "metadata": {},
     "output_type": "execute_result"
    }
   ],
   "source": [
    "# save to csv for easy viewing\n",
    "results.to_csv(f\"../results/neural_network/scores-{project}.csv\")\n",
    "\n",
    "results.round(4) * 100"
   ]
  },
  {
   "cell_type": "code",
   "execution_count": 13,
   "metadata": {},
   "outputs": [],
   "source": [
    "# save confusion matrix\n",
    "cm_df = pd.DataFrame(confusion_matrix_sum)\n",
    "cm_df.to_csv(f\"../results/neural_network/cmdata-{project}.csv\")"
   ]
  },
  {
   "cell_type": "code",
   "execution_count": 14,
   "metadata": {},
   "outputs": [
    {
     "data": {
      "image/png": "[encoded data removed]",
      "text/plain": [
       "<Figure size 640x480 with 2 Axes>"
      ]
     },
     "metadata": {},
     "output_type": "display_data"
    },
    {
     "data": {
      "text/plain": [
       "<Figure size 640x480 with 0 Axes>"
      ]
     },
     "metadata": {},
     "output_type": "display_data"
    }
   ],
   "source": [
    "fig, ax = plt.subplots()\n",
    "\n",
    "sns.heatmap(confusion_matrix_sum, annot=True, cmap=\"Blues\", fmt=\"d\")\n",
    "\n",
    "# Set labels, title, and axis ticks\n",
    "plt.xlabel(\"Predicted labels\")\n",
    "plt.ylabel(\"True labels\")\n",
    "plt.title(\"Neural Network Confusion Matrix\")\n",
    "\n",
    "tick_labels = [\"Default\", \"Non-default\"]\n",
    "tick_positions = [0, 1]\n",
    "plt.xticks(ticks=[pos + 0.5 for pos in tick_positions], labels=tick_labels)\n",
    "plt.yticks(ticks=[pos + 0.5 for pos in tick_positions], labels=tick_labels)\n",
    "\n",
    "# Show the plot\n",
    "plt.show()\n",
    "\n",
    "plt.tight_layout()\n",
    "fig.savefig(f\"../results/neural_network/cm-{project}.png\")"
   ]
  },
  {
   "cell_type": "code",
   "execution_count": 15,
   "metadata": {},
   "outputs": [],
   "source": [
    "# interpretation_model = hpModel.fit(kf_x, kf_y, epochs=10, batch_size=64, callbacks=earlyStop)\n",
    "# hpModel.save(f\"neural_network/interpretation_model-{projcet}\")"
   ]
  },
  {
   "cell_type": "code",
   "execution_count": null,
   "metadata": {},
   "outputs": [],
   "source": []
  }
 ],
 "metadata": {
  "kernelspec": {
   "display_name": "Python 3 (ipykernel)",
   "language": "python",
   "name": "python3"
  },
  "language_info": {
   "codemirror_mode": {
    "name": "ipython",
    "version": 3
   },
   "file_extension": ".py",
   "mimetype": "text/x-python",
   "name": "python",
   "nbconvert_exporter": "python",
   "pygments_lexer": "ipython3",
   "version": "3.9.13"
  },
  "vscode": {
   "interpreter": {
    "hash": "25034407fed5d681614dac11a1c0537e8cb49e3a8883c071303eea01322943d9"
   }
  }
 },
 "nbformat": 4,
 "nbformat_minor": 2
}

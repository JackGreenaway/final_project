{
 "cells": [
  {
   "cell_type": "code",
   "execution_count": 1,
   "metadata": {},
   "outputs": [],
   "source": [
    "import pandas as pd\n",
    "import numpy as np\n",
    "import seaborn as sns\n",
    "import matplotlib.pyplot as plt\n",
    "import keras_tuner as kt\n",
    "import pickle\n",
    "\n",
    "# custom classes for cross validation and scoring\n",
    "import cross_validation\n",
    "import performance_metrics\n",
    "\n",
    "from sklearn import metrics\n",
    "from sklearn.ensemble import RandomForestClassifier\n",
    "from sklearn.preprocessing import StandardScaler\n",
    "from sklearn.model_selection import KFold"
   ]
  },
  {
   "cell_type": "code",
   "execution_count": 2,
   "metadata": {},
   "outputs": [],
   "source": [
    "data = pd.read_csv(r\"../data/processed_data/complete_data.csv\", index_col=0)\n"
   ]
  },
  {
   "cell_type": "code",
   "execution_count": 3,
   "metadata": {},
   "outputs": [
    {
     "data": {
      "text/plain": [
       "((282686, 202), (282686,), (282686, 202), (282686,))"
      ]
     },
     "execution_count": 3,
     "metadata": {},
     "output_type": "execute_result"
    }
   ],
   "source": [
    "# split into features\n",
    "x = data.drop([\"TARGET\"], axis=1)\n",
    "y = data.filter([\"TARGET\"], axis=1)\n",
    "y = y.values.reshape(y.shape[0])\n",
    "\n",
    "# split dataset for hyperparameter tuning and kfold\n",
    "split = 0.5\n",
    "hp_x, hp_y = x[:int(len(x) * split)], y[:int(len(y) * split)] # hyperparameter set\n",
    "kf_x, kf_y = x[int(len(x) * split):], y[int(len(y) * split):] # kfold set\n",
    "\n",
    "hp_x.shape, hp_y.shape, kf_x.shape, kf_y.shape\n"
   ]
  },
  {
   "cell_type": "code",
   "execution_count": 4,
   "metadata": {},
   "outputs": [],
   "source": [
    "# scale the data for hyperparameter tuning\n",
    "scaler = StandardScaler()\n",
    "hp_x = scaler.fit_transform(hp_x)"
   ]
  },
  {
   "cell_type": "code",
   "execution_count": 5,
   "metadata": {},
   "outputs": [],
   "source": [
    "def model_builder(hp):\n",
    "    model = RandomForestClassifier(\n",
    "        n_estimators=hp.Int(\"n_est\", min_value=200, max_value=1000, step=100),\n",
    "        max_depth=hp.Int(\"max_depth\", 0, 100, 10),\n",
    "        min_samples_leaf=hp.Choice(\"min_samples_leaf\", [1, 2, 4]),\n",
    "        min_samples_split=hp.Choice(\"min_samples_split\", [2, 5, 10])\n",
    "    )\n",
    "    \n",
    "    return model"
   ]
  },
  {
   "cell_type": "code",
   "execution_count": 7,
   "metadata": {},
   "outputs": [
    {
     "name": "stdout",
     "output_type": "stream",
     "text": [
      "INFO:tensorflow:Reloading Tuner from ../logs/rf/rf_v1\\rf_v1\\tuner0.json\n"
     ]
    }
   ],
   "source": [
    "project_name = \"rf_v1\"\n",
    "\n",
    "tuner = kt.tuners.SklearnTuner(\n",
    "    oracle=kt.oracles.BayesianOptimizationOracle(\n",
    "        objective=kt.Objective(\"score\", \"max\"),\n",
    "        max_trials=20\n",
    "    ),\n",
    "    hypermodel=model_builder,\n",
    "    scoring=metrics.make_scorer(metrics.accuracy_score),\n",
    "    cv=KFold(2, shuffle=True, random_state=7243),\n",
    "    directory=f\"../logs/rf/{project_name}\",\n",
    "    project_name=project_name\n",
    ")"
   ]
  },
  {
   "cell_type": "code",
   "execution_count": 33,
   "metadata": {},
   "outputs": [
    {
     "name": "stdout",
     "output_type": "stream",
     "text": [
      "Trial 2 Complete [00h 29m 08s]\n",
      "score: 0.957875523125623\n",
      "\n",
      "Best score So Far: 0.9591631715176676\n",
      "Total elapsed time: 01h 19m 11s\n",
      "\n",
      "Search: Running Trial #3\n",
      "\n",
      "Value             |Best Value So Far |Hyperparameter\n",
      "1000              |500               |n_est\n",
      "40                |60                |max_depth\n",
      "4                 |2                 |min_samples_leaf\n",
      "5                 |5                 |min_samples_split\n",
      "\n"
     ]
    }
   ],
   "source": [
    "tuner.search(hp_x, hp_y)"
   ]
  },
  {
   "cell_type": "code",
   "execution_count": null,
   "metadata": {},
   "outputs": [],
   "source": [
    "# save the model architecture \n",
    "hpModel = tuner.get_best_models(1)[0]\n",
    "\n",
    "with open(f\"random_forest/{project_name}.pkl\", \"wb\") as file:\n",
    "    pickle.dump(hpModel, file)"
   ]
  },
  {
   "cell_type": "code",
   "execution_count": 6,
   "metadata": {},
   "outputs": [
    {
     "name": "stdout",
     "output_type": "stream",
     "text": [
      "Fold 1 completed\n",
      "Fold 2 completed\n",
      "Fold 3 completed\n",
      "Fold 4 completed\n",
      "Fold 5 completed\n",
      "Validation Completed\n"
     ]
    }
   ],
   "source": [
    "# load the model    \n",
    "# with open(f\"random_forest/{project_name}.pkl\", \"rb\") as file:\n",
    "#     loaded_model = pickle.load(file)\n",
    "\n",
    "loaded_model = RandomForestClassifier()\n",
    "\n",
    "kfold = KFold(n_splits=5, shuffle=True, random_state=663)\n",
    "\n",
    "# run cross validation for the model\n",
    "cv = cross_validation.cross_val(np.array(kf_x), np.array(kf_y))\n",
    "results, confusion_matrix = cv.run_validation(kfold=kfold, model=loaded_model, scaler=scaler)"
   ]
  },
  {
   "cell_type": "code",
   "execution_count": 9,
   "metadata": {},
   "outputs": [
    {
     "data": {
      "text/html": [
       "<div>\n",
       "<style scoped>\n",
       "    .dataframe tbody tr th:only-of-type {\n",
       "        vertical-align: middle;\n",
       "    }\n",
       "\n",
       "    .dataframe tbody tr th {\n",
       "        vertical-align: top;\n",
       "    }\n",
       "\n",
       "    .dataframe thead th {\n",
       "        text-align: right;\n",
       "    }\n",
       "</style>\n",
       "<table border=\"1\" class=\"dataframe\">\n",
       "  <thead>\n",
       "    <tr style=\"text-align: right;\">\n",
       "      <th></th>\n",
       "      <th>accuracy</th>\n",
       "      <th>precision</th>\n",
       "      <th>recall</th>\n",
       "      <th>f1</th>\n",
       "      <th>auc</th>\n",
       "      <th>fpr</th>\n",
       "      <th>fnr</th>\n",
       "    </tr>\n",
       "    <tr>\n",
       "      <th>Model</th>\n",
       "      <th></th>\n",
       "      <th></th>\n",
       "      <th></th>\n",
       "      <th></th>\n",
       "      <th></th>\n",
       "      <th></th>\n",
       "      <th></th>\n",
       "    </tr>\n",
       "  </thead>\n",
       "  <tbody>\n",
       "    <tr>\n",
       "      <th>1</th>\n",
       "      <td>95.81</td>\n",
       "      <td>99.82</td>\n",
       "      <td>91.81</td>\n",
       "      <td>95.65</td>\n",
       "      <td>95.82</td>\n",
       "      <td>0.08</td>\n",
       "      <td>4.10</td>\n",
       "    </tr>\n",
       "    <tr>\n",
       "      <th>2</th>\n",
       "      <td>95.80</td>\n",
       "      <td>99.80</td>\n",
       "      <td>91.88</td>\n",
       "      <td>95.68</td>\n",
       "      <td>95.85</td>\n",
       "      <td>0.09</td>\n",
       "      <td>4.10</td>\n",
       "    </tr>\n",
       "    <tr>\n",
       "      <th>3</th>\n",
       "      <td>95.94</td>\n",
       "      <td>99.76</td>\n",
       "      <td>92.06</td>\n",
       "      <td>95.76</td>\n",
       "      <td>95.92</td>\n",
       "      <td>0.11</td>\n",
       "      <td>3.94</td>\n",
       "    </tr>\n",
       "    <tr>\n",
       "      <th>4</th>\n",
       "      <td>95.90</td>\n",
       "      <td>99.79</td>\n",
       "      <td>92.04</td>\n",
       "      <td>95.76</td>\n",
       "      <td>95.92</td>\n",
       "      <td>0.10</td>\n",
       "      <td>4.00</td>\n",
       "    </tr>\n",
       "    <tr>\n",
       "      <th>5</th>\n",
       "      <td>95.96</td>\n",
       "      <td>99.73</td>\n",
       "      <td>92.14</td>\n",
       "      <td>95.79</td>\n",
       "      <td>95.95</td>\n",
       "      <td>0.12</td>\n",
       "      <td>3.92</td>\n",
       "    </tr>\n",
       "    <tr>\n",
       "      <th>Average</th>\n",
       "      <td>95.89</td>\n",
       "      <td>99.78</td>\n",
       "      <td>91.99</td>\n",
       "      <td>95.73</td>\n",
       "      <td>95.89</td>\n",
       "      <td>0.10</td>\n",
       "      <td>4.01</td>\n",
       "    </tr>\n",
       "  </tbody>\n",
       "</table>\n",
       "</div>"
      ],
      "text/plain": [
       "         accuracy  precision  recall     f1    auc   fpr   fnr\n",
       "Model                                                         \n",
       "1           95.81      99.82   91.81  95.65  95.82  0.08  4.10\n",
       "2           95.80      99.80   91.88  95.68  95.85  0.09  4.10\n",
       "3           95.94      99.76   92.06  95.76  95.92  0.11  3.94\n",
       "4           95.90      99.79   92.04  95.76  95.92  0.10  4.00\n",
       "5           95.96      99.73   92.14  95.79  95.95  0.12  3.92\n",
       "Average     95.89      99.78   91.99  95.73  95.89  0.10  4.01"
      ]
     },
     "execution_count": 9,
     "metadata": {},
     "output_type": "execute_result"
    }
   ],
   "source": [
    "# save to csv for easy viewing\n",
    "results.to_csv(f\"../results/random_forest/scores-{project_name}.csv\")\n",
    "\n",
    "results.round(4) * 100"
   ]
  },
  {
   "cell_type": "code",
   "execution_count": 10,
   "metadata": {},
   "outputs": [],
   "source": [
    "# save confusion matrix \n",
    "cm_df = pd.DataFrame(confusion_matrix)\n",
    "cm_df.to_csv(f\"../results/random_forest/cmdata-{project_name}.csv\")"
   ]
  },
  {
   "cell_type": "code",
   "execution_count": 11,
   "metadata": {},
   "outputs": [
    {
     "data": {
      "image/png": "[encoded data removed]",
      "text/plain": [
       "<Figure size 640x480 with 2 Axes>"
      ]
     },
     "metadata": {},
     "output_type": "display_data"
    },
    {
     "data": {
      "text/plain": [
       "<Figure size 640x480 with 0 Axes>"
      ]
     },
     "metadata": {},
     "output_type": "display_data"
    }
   ],
   "source": [
    "fig = sns.heatmap(confusion_matrix, annot=True, cmap='Blues', fmt='d')\n",
    "\n",
    "# Set labels, title, and axis ticks\n",
    "plt.xlabel('Predicted labels')\n",
    "plt.ylabel('True labels')\n",
    "plt.title('Random Forest Confusion Matrix')\n",
    "\n",
    "tick_labels = ['Default', 'Non-default']\n",
    "tick_positions = [0, 1]\n",
    "plt.xticks(ticks=[pos + 0.5 for pos in tick_positions], labels=tick_labels)\n",
    "plt.yticks(ticks=[pos + 0.5 for pos in tick_positions], labels=tick_labels)\n",
    "\n",
    "# Show the plot\n",
    "plt.show()\n",
    "\n",
    "plt.tight_layout()\n",
    "\n",
    "graph = fig.get_figure()\n",
    "graph.savefig(f\"../results/random_forest/cm-{project_name}.png\")"
   ]
  },
  {
   "cell_type": "code",
   "execution_count": null,
   "metadata": {},
   "outputs": [],
   "source": [
    "interpretation_model = loaded_model.fit(kf_x, kf_y)\n",
    "\n",
    "with open(f\"random_forest/{project_name}-interpretation.pkl\", \"wb\") as file:\n",
    "    pickle.dump(interpretation_model, file)"
   ]
  }
 ],
 "metadata": {
  "kernelspec": {
   "display_name": "Python 3 (ipykernel)",
   "language": "python",
   "name": "python3"
  },
  "language_info": {
   "codemirror_mode": {
    "name": "ipython",
    "version": 3
   },
   "file_extension": ".py",
   "mimetype": "text/x-python",
   "name": "python",
   "nbconvert_exporter": "python",
   "pygments_lexer": "ipython3",
   "version": "3.9.13"
  }
 },
 "nbformat": 4,
 "nbformat_minor": 2
}

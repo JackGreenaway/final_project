{
 "cells": [
  {
   "cell_type": "code",
   "execution_count": 14,
   "metadata": {},
   "outputs": [],
   "source": [
    "import pandas as pd\n",
    "import keras\n",
    "import numpy as np\n",
    "import matplotlib.pyplot as plt\n",
    "\n",
    "from sklearn.preprocessing import StandardScaler\n",
    "from sklearn.metrics import (\n",
    "    confusion_matrix,\n",
    "    ConfusionMatrixDisplay,\n",
    "    classification_report,\n",
    "    accuracy_score,\n",
    "    precision_score,\n",
    "    recall_score,\n",
    "    f1_score,\n",
    "    roc_auc_score,\n",
    "    roc_curve,\n",
    "    RocCurveDisplay,\n",
    "    auc\n",
    ")"
   ]
  },
  {
   "cell_type": "code",
   "execution_count": 3,
   "metadata": {},
   "outputs": [],
   "source": [
    "raw_data = pd.read_csv(r\"../data/processed_data/oversampled_test.csv\", index_col=0)\n"
   ]
  },
  {
   "cell_type": "code",
   "execution_count": 4,
   "metadata": {},
   "outputs": [
    {
     "data": {
      "text/plain": [
       "((84806, 120), (84806, 1))"
      ]
     },
     "execution_count": 4,
     "metadata": {},
     "output_type": "execute_result"
    }
   ],
   "source": [
    "x = raw_data.drop([\"TARGET\"], axis=1)\n",
    "y = raw_data.filter([\"TARGET\"], axis=1)\n",
    "\n",
    "scaler = (\n",
    "    StandardScaler()\n",
    ")  # MinMaxScaler often made values = 0.0, which = lost features in training\n",
    "x_scaled = scaler.fit_transform(x)\n",
    "# y = scaler.fit_transform(y)\n",
    "# y = y.values  # we dont need to scale our binary classification\n",
    "\n",
    "# x_scaled = x_scaled.reshape(x_scaled.shape[0], x_scaled.shape[1], )  # data needs to be 3D for a CNN\n",
    "\n",
    "x_scaled.shape, y.shape\n"
   ]
  },
  {
   "cell_type": "code",
   "execution_count": 5,
   "metadata": {},
   "outputs": [],
   "source": [
    "# load trained model\n",
    "model = keras.models.load_model(r\"../models/BayOpt_v1.01\")\n"
   ]
  },
  {
   "cell_type": "code",
   "execution_count": 6,
   "metadata": {},
   "outputs": [
    {
     "name": "stdout",
     "output_type": "stream",
     "text": [
      "2651/2651 [==============================] - 9s 3ms/step\n"
     ]
    }
   ],
   "source": [
    "y_pred = model.predict(x_scaled)\n"
   ]
  },
  {
   "cell_type": "code",
   "execution_count": 7,
   "metadata": {},
   "outputs": [],
   "source": [
    "# convert continuous data to binary\n",
    "y_pred_binary = np.where(y_pred >= 0.5, 1, 0)"
   ]
  },
  {
   "cell_type": "code",
   "execution_count": 8,
   "metadata": {},
   "outputs": [
    {
     "data": {
      "text/html": [
       "<div>\n",
       "<style scoped>\n",
       "    .dataframe tbody tr th:only-of-type {\n",
       "        vertical-align: middle;\n",
       "    }\n",
       "\n",
       "    .dataframe tbody tr th {\n",
       "        vertical-align: top;\n",
       "    }\n",
       "\n",
       "    .dataframe thead th {\n",
       "        text-align: right;\n",
       "    }\n",
       "</style>\n",
       "<table border=\"1\" class=\"dataframe\">\n",
       "  <thead>\n",
       "    <tr style=\"text-align: right;\">\n",
       "      <th></th>\n",
       "      <th>111441</th>\n",
       "      <th>493644</th>\n",
       "      <th>269625</th>\n",
       "      <th>423712</th>\n",
       "      <th>80410</th>\n",
       "      <th>324062</th>\n",
       "      <th>11327</th>\n",
       "      <th>168580</th>\n",
       "      <th>117111</th>\n",
       "      <th>391348</th>\n",
       "      <th>515426</th>\n",
       "      <th>219714</th>\n",
       "      <th>150001</th>\n",
       "      <th>555146</th>\n",
       "      <th>275474</th>\n",
       "    </tr>\n",
       "  </thead>\n",
       "  <tbody>\n",
       "    <tr>\n",
       "      <th>y_true</th>\n",
       "      <td>0</td>\n",
       "      <td>1</td>\n",
       "      <td>0</td>\n",
       "      <td>1</td>\n",
       "      <td>0</td>\n",
       "      <td>1</td>\n",
       "      <td>1</td>\n",
       "      <td>0</td>\n",
       "      <td>0</td>\n",
       "      <td>1</td>\n",
       "      <td>1</td>\n",
       "      <td>0</td>\n",
       "      <td>0</td>\n",
       "      <td>1</td>\n",
       "      <td>0</td>\n",
       "    </tr>\n",
       "    <tr>\n",
       "      <th>y_pred</th>\n",
       "      <td>0</td>\n",
       "      <td>1</td>\n",
       "      <td>0</td>\n",
       "      <td>1</td>\n",
       "      <td>0</td>\n",
       "      <td>1</td>\n",
       "      <td>0</td>\n",
       "      <td>0</td>\n",
       "      <td>0</td>\n",
       "      <td>1</td>\n",
       "      <td>1</td>\n",
       "      <td>0</td>\n",
       "      <td>1</td>\n",
       "      <td>1</td>\n",
       "      <td>0</td>\n",
       "    </tr>\n",
       "  </tbody>\n",
       "</table>\n",
       "</div>"
      ],
      "text/plain": [
       "        111441  493644  269625  423712  80410   324062  11327   168580  \\\n",
       "y_true       0       1       0       1       0       1       1       0   \n",
       "y_pred       0       1       0       1       0       1       0       0   \n",
       "\n",
       "        117111  391348  515426  219714  150001  555146  275474  \n",
       "y_true       0       1       1       0       0       1       0  \n",
       "y_pred       0       1       1       0       1       1       0  "
      ]
     },
     "execution_count": 8,
     "metadata": {},
     "output_type": "execute_result"
    }
   ],
   "source": [
    "# convert continuous data to binary\n",
    "y_pred_binary = np.where(y_pred >= 0.5, 1, 0)\n",
    "\n",
    "# createa a dataframe to house the predictions and true\n",
    "y_results = pd.DataFrame()\n",
    "y_results[\"y_true\"] = y\n",
    "y_results[\"y_pred\"] = y_pred_binary\n",
    "\n",
    "y_results.head(15).T"
   ]
  },
  {
   "cell_type": "code",
   "execution_count": 9,
   "metadata": {},
   "outputs": [
    {
     "name": "stdout",
     "output_type": "stream",
     "text": [
      "---------- Evaluation Metrics ----------\n",
      "Accuracy: 0.914\n",
      "Precision: 0.970\n",
      "Recall: 0.853\n",
      "F1_score: 0.908\n",
      "AUC_score: 0.913\n"
     ]
    }
   ],
   "source": [
    "# Performance metrics\n",
    "print(f\"{'-'*10} Evaluation Metrics {'-'*10}\")\n",
    "\n",
    "accuracy = accuracy_score(y_results[\"y_true\"], y_results[\"y_pred\"])\n",
    "print(f\"Accuracy: {'%.3f' % accuracy}\")\n",
    "\n",
    "precision = precision_score(y_results[\"y_true\"], y_results[\"y_pred\"])\n",
    "print(f\"Precision: {'%.3f' % precision}\")\n",
    "\n",
    "recall = recall_score(y_results[\"y_true\"], y_results[\"y_pred\"])\n",
    "print(f\"Recall: {'%.3f' % recall}\")\n",
    "\n",
    "f1 = f1_score(y_results[\"y_true\"], y_results[\"y_pred\"])\n",
    "print(f\"F1_score: {'%.3f' % f1}\")\n",
    "\n",
    "auc_result = roc_auc_score(y_results[\"y_true\"], y_results[\"y_pred\"])\n",
    "print(f\"AUC_score: {'%.3f' % auc_result}\")\n",
    "\n",
    "# print(classification_report(y_results[\"y_true\"], y_results[\"y_pred\"]))\n"
   ]
  },
  {
   "cell_type": "code",
   "execution_count": 10,
   "metadata": {},
   "outputs": [
    {
     "data": {
      "text/plain": [
       "<sklearn.metrics._plot.confusion_matrix.ConfusionMatrixDisplay at 0x228281793d0>"
      ]
     },
     "execution_count": 10,
     "metadata": {},
     "output_type": "execute_result"
    },
    {
     "data": {
      "image/png": "[encoded data removed]",
      "text/plain": [
       "<Figure size 640x480 with 2 Axes>"
      ]
     },
     "metadata": {},
     "output_type": "display_data"
    }
   ],
   "source": [
    "con_matrix = confusion_matrix(y_results[\"y_true\"], y_results[\"y_pred\"])\n",
    "\n",
    "disp = ConfusionMatrixDisplay(\n",
    "    confusion_matrix=con_matrix, display_labels=[\"Default\", \"Non-default\"]\n",
    ")\n",
    "disp.plot(cmap=plt.cm.Blues)"
   ]
  },
  {
   "cell_type": "code",
   "execution_count": 15,
   "metadata": {},
   "outputs": [
    {
     "data": {
      "text/plain": [
       "<sklearn.metrics._plot.roc_curve.RocCurveDisplay at 0x228288beeb0>"
      ]
     },
     "execution_count": 15,
     "metadata": {},
     "output_type": "execute_result"
    },
    {
     "data": {
      "image/png": "[encoded data removed]",
      "text/plain": [
       "<Figure size 640x480 with 1 Axes>"
      ]
     },
     "metadata": {},
     "output_type": "display_data"
    }
   ],
   "source": [
    "fpr, tpr, threshold = roc_curve(y_results[\"y_true\"], y_pred)\n",
    "roc_auc = auc(fpr, tpr)\n",
    "\n",
    "disp = RocCurveDisplay(fpr=fpr, tpr=tpr, roc_auc=roc_auc)\n",
    "disp.plot()"
   ]
  },
  {
   "cell_type": "code",
   "execution_count": null,
   "metadata": {},
   "outputs": [],
   "source": []
  }
 ],
 "metadata": {
  "kernelspec": {
   "display_name": "Python 3",
   "language": "python",
   "name": "python3"
  },
  "language_info": {
   "codemirror_mode": {
    "name": "ipython",
    "version": 3
   },
   "file_extension": ".py",
   "mimetype": "text/x-python",
   "name": "python",
   "nbconvert_exporter": "python",
   "pygments_lexer": "ipython3",
   "version": "3.9.13"
  },
  "orig_nbformat": 4
 },
 "nbformat": 4,
 "nbformat_minor": 2
}

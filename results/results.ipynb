{
 "cells": [
  {
   "cell_type": "code",
   "execution_count": 1,
   "metadata": {},
   "outputs": [],
   "source": [
    "import pandas as pd\n",
    "import seaborn as sns"
   ]
  },
  {
   "cell_type": "code",
   "execution_count": 2,
   "metadata": {},
   "outputs": [],
   "source": [
    "version = \"v1\"\n",
    "\n",
    "lda = pd.read_csv(f\"linear_da/scores-lda_{version}.csv\", index_col=0)\n",
    "lr = pd.read_csv(f\"logistic_regression/scores-lr_{version}.csv\", index_col=0)\n",
    "nn = pd.read_csv(f\"neural_network/scores-nn_{version}.csv\", index_col=0)\n",
    "rf = pd.read_csv(f\"random_forest/scores-rf_{version}.csv\", index_col=0)"
   ]
  },
  {
   "cell_type": "code",
   "execution_count": 3,
   "metadata": {},
   "outputs": [],
   "source": [
    "models = [lda, lr, nn, rf]\n",
    "models_name = [\"LDA\", \"LR\", \"NN\", \"RF\"]\n",
    "averages = pd.DataFrame()\n",
    "\n",
    "for i in range(len(models)):\n",
    "        averages[models_name[i]] = models[i].loc[\"Average\"]\n",
    "        \n",
    "data = (averages.T.round(4) * 100).sort_values(by=\"accuracy\", ascending=False)"
   ]
  },
  {
   "cell_type": "code",
   "execution_count": 4,
   "metadata": {},
   "outputs": [
    {
     "data": {
      "text/html": [
       "<style type=\"text/css\">\n",
       "#T_0b189_row0_col0, #T_0b189_row0_col2, #T_0b189_row0_col3, #T_0b189_row0_col4, #T_0b189_row2_col5, #T_0b189_row3_col1, #T_0b189_row3_col6 {\n",
       "  background-color: #008066;\n",
       "  color: #f1f1f1;\n",
       "}\n",
       "#T_0b189_row0_col1, #T_0b189_row1_col6, #T_0b189_row3_col0, #T_0b189_row3_col2, #T_0b189_row3_col3, #T_0b189_row3_col4, #T_0b189_row3_col5 {\n",
       "  background-color: #ffff66;\n",
       "  color: #000000;\n",
       "}\n",
       "#T_0b189_row0_col5 {\n",
       "  background-color: #eaf466;\n",
       "  color: #000000;\n",
       "}\n",
       "#T_0b189_row0_col6 {\n",
       "  background-color: #cbe566;\n",
       "  color: #000000;\n",
       "}\n",
       "#T_0b189_row1_col0 {\n",
       "  background-color: #8bc566;\n",
       "  color: #000000;\n",
       "}\n",
       "#T_0b189_row1_col1 {\n",
       "  background-color: #1f8f66;\n",
       "  color: #f1f1f1;\n",
       "}\n",
       "#T_0b189_row1_col2 {\n",
       "  background-color: #a2d066;\n",
       "  color: #000000;\n",
       "}\n",
       "#T_0b189_row1_col3, #T_0b189_row1_col4 {\n",
       "  background-color: #8cc666;\n",
       "  color: #000000;\n",
       "}\n",
       "#T_0b189_row1_col5 {\n",
       "  background-color: #0e8666;\n",
       "  color: #f1f1f1;\n",
       "}\n",
       "#T_0b189_row2_col0 {\n",
       "  background-color: #bfdf66;\n",
       "  color: #000000;\n",
       "}\n",
       "#T_0b189_row2_col1 {\n",
       "  background-color: #65b266;\n",
       "  color: #f1f1f1;\n",
       "}\n",
       "#T_0b189_row2_col2 {\n",
       "  background-color: #b7db66;\n",
       "  color: #000000;\n",
       "}\n",
       "#T_0b189_row2_col3 {\n",
       "  background-color: #bcde66;\n",
       "  color: #000000;\n",
       "}\n",
       "#T_0b189_row2_col4 {\n",
       "  background-color: #bede66;\n",
       "  color: #000000;\n",
       "}\n",
       "#T_0b189_row2_col6 {\n",
       "  background-color: #f6fa66;\n",
       "  color: #000000;\n",
       "}\n",
       "</style>\n",
       "<table id=\"T_0b189\">\n",
       "  <thead>\n",
       "    <tr>\n",
       "      <th class=\"blank level0\" >&nbsp;</th>\n",
       "      <th id=\"T_0b189_level0_col0\" class=\"col_heading level0 col0\" >accuracy</th>\n",
       "      <th id=\"T_0b189_level0_col1\" class=\"col_heading level0 col1\" >precision</th>\n",
       "      <th id=\"T_0b189_level0_col2\" class=\"col_heading level0 col2\" >recall</th>\n",
       "      <th id=\"T_0b189_level0_col3\" class=\"col_heading level0 col3\" >f1</th>\n",
       "      <th id=\"T_0b189_level0_col4\" class=\"col_heading level0 col4\" >auc</th>\n",
       "      <th id=\"T_0b189_level0_col5\" class=\"col_heading level0 col5\" >fpr</th>\n",
       "      <th id=\"T_0b189_level0_col6\" class=\"col_heading level0 col6\" >fnr</th>\n",
       "    </tr>\n",
       "  </thead>\n",
       "  <tbody>\n",
       "    <tr>\n",
       "      <th id=\"T_0b189_level0_row0\" class=\"row_heading level0 row0\" >NN</th>\n",
       "      <td id=\"T_0b189_row0_col0\" class=\"data row0 col0\" >97.090000</td>\n",
       "      <td id=\"T_0b189_row0_col1\" class=\"data row0 col1\" >98.520000</td>\n",
       "      <td id=\"T_0b189_row0_col2\" class=\"data row0 col2\" >95.630000</td>\n",
       "      <td id=\"T_0b189_row0_col3\" class=\"data row0 col3\" >97.050000</td>\n",
       "      <td id=\"T_0b189_row0_col4\" class=\"data row0 col4\" >97.090000</td>\n",
       "      <td id=\"T_0b189_row0_col5\" class=\"data row0 col5\" >0.720000</td>\n",
       "      <td id=\"T_0b189_row0_col6\" class=\"data row0 col6\" >2.190000</td>\n",
       "    </tr>\n",
       "    <tr>\n",
       "      <th id=\"T_0b189_level0_row1\" class=\"row_heading level0 row1\" >RF</th>\n",
       "      <td id=\"T_0b189_row1_col0\" class=\"data row1 col0\" >95.930000</td>\n",
       "      <td id=\"T_0b189_row1_col1\" class=\"data row1 col1\" >99.810000</td>\n",
       "      <td id=\"T_0b189_row1_col2\" class=\"data row1 col2\" >92.040000</td>\n",
       "      <td id=\"T_0b189_row1_col3\" class=\"data row1 col3\" >95.770000</td>\n",
       "      <td id=\"T_0b189_row1_col4\" class=\"data row1 col4\" >95.930000</td>\n",
       "      <td id=\"T_0b189_row1_col5\" class=\"data row1 col5\" >7.960000</td>\n",
       "      <td id=\"T_0b189_row1_col6\" class=\"data row1 col6\" >0.170000</td>\n",
       "    </tr>\n",
       "    <tr>\n",
       "      <th id=\"T_0b189_level0_row2\" class=\"row_heading level0 row2\" >LR</th>\n",
       "      <td id=\"T_0b189_row2_col0\" class=\"data row2 col0\" >95.500000</td>\n",
       "      <td id=\"T_0b189_row2_col1\" class=\"data row2 col1\" >99.410000</td>\n",
       "      <td id=\"T_0b189_row2_col2\" class=\"data row2 col2\" >91.560000</td>\n",
       "      <td id=\"T_0b189_row2_col3\" class=\"data row2 col3\" >95.330000</td>\n",
       "      <td id=\"T_0b189_row2_col4\" class=\"data row2 col4\" >95.510000</td>\n",
       "      <td id=\"T_0b189_row2_col5\" class=\"data row2 col5\" >8.440000</td>\n",
       "      <td id=\"T_0b189_row2_col6\" class=\"data row2 col6\" >0.540000</td>\n",
       "    </tr>\n",
       "    <tr>\n",
       "      <th id=\"T_0b189_level0_row3\" class=\"row_heading level0 row3\" >LDA</th>\n",
       "      <td id=\"T_0b189_row3_col0\" class=\"data row3 col0\" >94.960000</td>\n",
       "      <td id=\"T_0b189_row3_col1\" class=\"data row3 col1\" >99.990000</td>\n",
       "      <td id=\"T_0b189_row3_col2\" class=\"data row3 col2\" >89.960000</td>\n",
       "      <td id=\"T_0b189_row3_col3\" class=\"data row3 col3\" >94.710000</td>\n",
       "      <td id=\"T_0b189_row3_col4\" class=\"data row3 col4\" >94.970000</td>\n",
       "      <td id=\"T_0b189_row3_col5\" class=\"data row3 col5\" >0.010000</td>\n",
       "      <td id=\"T_0b189_row3_col6\" class=\"data row3 col6\" >10.040000</td>\n",
       "    </tr>\n",
       "  </tbody>\n",
       "</table>\n"
      ],
      "text/plain": [
       "<pandas.io.formats.style.Styler at 0x2318b7cd820>"
      ]
     },
     "execution_count": 4,
     "metadata": {},
     "output_type": "execute_result"
    }
   ],
   "source": [
    "data.style.background_gradient(cmap=\"summer_r\")"
   ]
  },
  {
   "cell_type": "code",
   "execution_count": 5,
   "metadata": {},
   "outputs": [
    {
     "data": {
      "text/plain": [
       "NN     69.755714\n",
       "RF     69.658571\n",
       "LR     69.470000\n",
       "LDA    69.234286\n",
       "dtype: float64"
      ]
     },
     "execution_count": 5,
     "metadata": {},
     "output_type": "execute_result"
    }
   ],
   "source": [
    "data.mean(axis=1)"
   ]
  }
 ],
 "metadata": {
  "kernelspec": {
   "display_name": "Python 3",
   "language": "python",
   "name": "python3"
  },
  "language_info": {
   "codemirror_mode": {
    "name": "ipython",
    "version": 3
   },
   "file_extension": ".py",
   "mimetype": "text/x-python",
   "name": "python",
   "nbconvert_exporter": "python",
   "pygments_lexer": "ipython3",
   "version": "3.9.13"
  },
  "orig_nbformat": 4
 },
 "nbformat": 4,
 "nbformat_minor": 2
}
